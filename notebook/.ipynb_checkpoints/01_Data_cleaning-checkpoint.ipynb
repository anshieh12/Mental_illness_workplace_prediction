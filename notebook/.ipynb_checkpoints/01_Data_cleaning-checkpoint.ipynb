{
 "cells": [
  {
   "cell_type": "markdown",
   "metadata": {},
   "source": [
    "# Data cleaning with Spark"
   ]
  },
  {
   "cell_type": "markdown",
   "metadata": {},
   "source": [
    "Obtained the data from the OSMI website https://osmihelp.org/research."
   ]
  },
  {
   "cell_type": "code",
   "execution_count": 1,
   "metadata": {},
   "outputs": [],
   "source": [
    "import pyspark\n",
    "import pickle \n",
    "import pandas as pd\n",
    "from pyspark.sql.functions import when,udf\n",
    "from pyspark.sql.types import BooleanType\n",
    "from pyspark.sql import functions as f\n",
    "from pyspark.sql.types import *"
   ]
  },
  {
   "cell_type": "code",
   "execution_count": 2,
   "metadata": {},
   "outputs": [],
   "source": [
    "spark = pyspark.sql.SparkSession.builder.getOrCreate()"
   ]
  },
  {
   "cell_type": "code",
   "execution_count": 3,
   "metadata": {},
   "outputs": [],
   "source": [
    "data_2019 = spark.read.csv(r'/Users/shiehan/Desktop/kaplan stuff/project5/OSMI 2019 Mental Health in Tech Survey Results - OSMI Mental Health in Tech Survey 2019.csv', header = 'true',inferSchema='true',sep=',')\n",
    "data_2018 = spark.read.csv(r'/Users/shiehan/Desktop/kaplan stuff/project5/OSMI Mental Health in Tech Survey 2018.csv', header = 'true',inferSchema='true',sep=',')\n",
    "data_2017 = spark.read.csv(r'/Users/shiehan/Desktop/kaplan stuff/project5/OSMI Mental Health in Tech Survey 2017.csv', header = 'true',inferSchema='true',sep=',')\n",
    "data_2016 = spark.read.csv(r'/Users/shiehan/Desktop/kaplan stuff/project5/mental-heath-in-tech-2016_20161114.csv', header = 'true',inferSchema='true',sep=',')"
   ]
  },
  {
   "cell_type": "code",
   "execution_count": 4,
   "metadata": {},
   "outputs": [
    {
     "data": {
      "text/plain": [
       "[Row(<strong>Are you self-employed?</strong>='0', How many employees does your company or organization have?='More than 1000', Is your employer primarily a tech company/organization?='1', Is your primary role within your company related to tech/IT?='0', Does your employer provide mental health benefits as part of healthcare coverage?='Yes', Do you know the options for mental health care available under your employer-provided health coverage?='Yes', Has your employer ever formally discussed mental health (for example, as part of a wellness campaign or other official communication)?='Yes', Does your employer offer resources to learn more about mental health disorders and options for seeking help?='Yes', Is your anonymity protected if you choose to take advantage of mental health or substance abuse treatment resources provided by your employer?='Yes', If a mental health issue prompted you to request a medical leave from work, how easy or difficult would it be to ask for that leave?='Somewhat difficult', Would you feel more comfortable talking to your coworkers about your physical health or your mental health?='Physical health', Would you feel comfortable discussing a mental health issue with your direct supervisor(s)?='No', Have you ever discussed your mental health with your employer?='1', Describe the conversation you had with your employer about your mental health, including their reactions and what actions were taken to address your mental health issue/questions.='I informed my employer that I was very sick due to anxiety.  I was told not to let that interfere with my job.  I suffered stigma Andreas isolated and pushed to the side', Would you feel comfortable discussing a mental health issue with your coworkers?='No', Have you ever discussed your mental health with coworkers?='1', Describe the conversation with coworkers you had about your mental health including their reactions.='I do have a supportive group of coworkers to talk to who support mental health. But not everyone u derstands or knows what to say ', Have you ever had a coworker discuss their or another coworker's mental health with you?='1', Describe the conversation your coworker had with you about their mental health (please do not use names).19='I have a coworker who lives with bipolar disease.  Theylet me know when they are not having a good day.  They know it is ok with me', Overall, how much importance does your employer place on physical health?='8', Overall, how much importance does your employer place on mental health?='6', Do you have medical coverage (private insurance or state-provided) that includes treatment of mental health disorders?=None, Do you know local or online resources to seek help for a mental health issue?=None, <strong>If you have been diagnosed or treated for a mental health disorder, do you ever reveal this to clients or business contacts?</strong>=None, If you have revealed a mental health disorder to a client or business contact, how has this affected you or the relationship?=None, <strong>If you have been diagnosed or treated for a mental health disorder, do you ever reveal this to coworkers or employees?</strong>=None, If you have revealed a mental health disorder to a coworker or employee, how has this impacted you or the relationship?=None, Do you believe your productivity is ever affected by a mental health issue?=None, If yes, what percentage of your work time (time performing primary or secondary job functions) is affected by a mental health issue?=None, <strong>Do you have previous employers?</strong>='1', Was your employer primarily a tech company/organization?='1', <strong>Have your previous employers provided mental health benefits?</strong>='No, none did', <strong>Were you aware of the options for mental health care provided by your previous employers?</strong>='No, I only became aware later', Did your previous employers ever formally discuss mental health (as part of a wellness campaign or other official communication)?='None did', Did your previous employers provide resources to learn more about mental health disorders and how to seek help?='None did', Was your anonymity protected if you chose to take advantage of mental health or substance abuse treatment resources with previous employers?=\"I don't know\", Would you have felt more comfortable talking to your previous employer about your physical health or your mental health?='Physical health', Would you have been willing to discuss your mental health with your direct supervisor(s)?='No, none of my previous supervisors', Did you ever discuss your mental health with your previous employer?='0', Describe the conversation you had with your previous employer about your mental health, including their reactions and actions taken to address your mental health issue/questions.=None, <strong>Would you have been willing to discuss your mental health with your coworkers at previous employers?</strong>='No, at none of my previous employers', Did you ever discuss your mental health with a previous coworker(s)?='0', Describe the conversation you had with your previous coworkers about your mental health including their reactions.=None, Did you ever have a previous coworker discuss their or another coworker's mental health with you?='0', Describe the conversation your coworker had with you about their mental health (please do not use names).45=None, Overall, how much importance did your previous employer place on physical health?='8', Overall, how much importance did your previous employer place on mental health?='2', Do you currently have a mental health disorder?='Possibly', Have you ever been diagnosed with a mental health disorder?=None, Anxiety Disorder (Generalized, Social, Phobia, etc)50=None, Mood Disorder (Depression, Bipolar Disorder, etc)51=None, Psychotic Disorder (Schizophrenia, Schizoaffective, etc)52=None, Eating Disorder (Anorexia, Bulimia, etc)53=None, Attention Deficit Hyperactivity Disorder54=None, Personality Disorder (Borderline, Antisocial, Paranoid, etc)55=None, Obsessive-Compulsive Disorder56=None, Post-Traumatic Stress Disorder57=None, Stress Response Syndromes58=None, Dissociative Disorder59=None, Substance Use Disorder60=None, Addictive Disorder61=None, Other62=None, Anxiety Disorder (Generalized, Social, Phobia, etc)63='Anxiety Disorder (Generalized, Social, Phobia, etc)', Mood Disorder (Depression, Bipolar Disorder, etc)64='Mood Disorder (Depression, Bipolar Disorder, etc)', Psychotic Disorder (Schizophrenia, Schizoaffective, etc)65=None, Eating Disorder (Anorexia, Bulimia, etc)66=None, Attention Deficit Hyperactivity Disorder67=None, Personality Disorder (Borderline, Antisocial, Paranoid, etc)68=None, Obsessive-Compulsive Disorder69=None, Post-traumatic Stress Disorder70=None, Stress Response Syndromes71=None, Dissociative Disorder72=None, Substance Use Disorder73=None, Addictive Disorder74=None, Other75=None, Anxiety Disorder (Generalized, Social, Phobia, etc)76=None, Mood Disorder (Depression, Bipolar Disorder, etc)77=None, Psychotic Disorder (Schizophrenia, Schizoaffective, etc)78=None, Eating Disorder (Anorexia, Bulimia, etc)79=None, Attention Deficit Hyperactivity Disorder80=None, Personality Disorder (Borderline, Antisocial, Paranoid, etc)81=None, Obsessive-Compulsive Disorder82=None, Post-traumatic Stress Disorder83=None, Stress Response Syndromes84=None, Dissociative Disorder85=None, Substance Use Disorder86=None, Addictive Disorder87=None, Other88=None, Have you had a mental health disorder in the past?='Yes', Have you ever sought treatment for a mental health disorder from a mental health professional?='1', Do you have a family history of mental illness?='Yes', If you have a mental health disorder, how often do you feel that it interferes with your work <strong>when being treated effectively?</strong>='Rarely', If you have a mental health disorder, how often do you feel that it interferes with your work <strong>when</strong> <em><strong>NOT</strong></em><strong> being treated effectively (i.e., when you are experiencing symptoms)?</strong>='Sometimes', Have your observations of how another individual who discussed a mental health issue made you less likely to reveal a mental health issue yourself in your current workplace?='Yes', How willing would you be to share with friends and family that you have a mental illness?='3', Would you be willing to bring up a physical health issue with a potential employer in an interview?='No', Why or why not?97='I don’t see it as relevant', Would you bring up your mental health with a potential employer in an interview?='No', Why or why not?99='Not relevant ', Are you openly identified at work as a person with a mental health issue?='0', Has being identified as a person with a mental health issue affected your career?=None, How has it affected your career?=None, If they knew you suffered from a mental health disorder, how do you think that team members/co-workers would react?='5', <strong>Have you observed or experienced an unsupportive or badly handled response to a mental health issue in your current or previous workplace?</strong>='Yes, I observed', Describe the circumstances of the badly handled or unsupportive response.='I saw people who were on “stress” leave ridiculed, or talked about as thought they were it feeling the truth, or just wanted time off', <strong>Have you observed or experienced supportive or well handled response to a mental health issue in your current or previous workplace?</strong>='Yes, I observed', Describe the circumstances of the supportive or well handled response.=None, Overall, how well do you think the tech industry supports employees with mental health issues?='2', Briefly describe what you think the industry as a whole and/or employers could do to improve mental health support for employees.='Since the industry is male dominated, there should be more talk to increase awareness and reduce stigma.  Offering peer support programs and role models would also help make the discussion ok', If there is anything else you would like to tell us that has not been covered by the survey questions, please use this space to do so.='NA', Would you be willing to talk to one of us more extensively about your experiences with mental health issues in the tech industry? (Note that all interview responses would be used <em>anonymously</em> and only with your permission.)='1', What is your age?='57', What is your gender?='Female', What country do you <strong>live</strong> in?='Canada', What US state or territory do you <strong>live</strong> in?=None, What is your race?=None, Other117=None, What country do you <strong>work</strong> in?='Canada', What US state or territory do you <strong>work</strong> in?=None, Start Date (UTC)='2018-12-29 23:46:38', Submit Date (UTC)='2018-12-30 00:00:03', Network ID='4bbb884ccc'),\n",
       " Row(<strong>Are you self-employed?</strong>='0', How many employees does your company or organization have?='More than 1000', Is your employer primarily a tech company/organization?='1', Is your primary role within your company related to tech/IT?='1', Does your employer provide mental health benefits as part of healthcare coverage?='Yes', Do you know the options for mental health care available under your employer-provided health coverage?='Yes', Has your employer ever formally discussed mental health (for example, as part of a wellness campaign or other official communication)?='No', Does your employer offer resources to learn more about mental health disorders and options for seeking help?=\"I don't know\", Is your anonymity protected if you choose to take advantage of mental health or substance abuse treatment resources provided by your employer?=\"I don't know\", If a mental health issue prompted you to request a medical leave from work, how easy or difficult would it be to ask for that leave?='Somewhat difficult', Would you feel more comfortable talking to your coworkers about your physical health or your mental health?='Physical health', Would you feel comfortable discussing a mental health issue with your direct supervisor(s)?='No', Have you ever discussed your mental health with your employer?='0', Describe the conversation you had with your employer about your mental health, including their reactions and what actions were taken to address your mental health issue/questions.=None, Would you feel comfortable discussing a mental health issue with your coworkers?='No', Have you ever discussed your mental health with coworkers?='0', Describe the conversation with coworkers you had about your mental health including their reactions.=None, Have you ever had a coworker discuss their or another coworker's mental health with you?='0', Describe the conversation your coworker had with you about their mental health (please do not use names).19=None, Overall, how much importance does your employer place on physical health?='8', Overall, how much importance does your employer place on mental health?='3', Do you have medical coverage (private insurance or state-provided) that includes treatment of mental health disorders?=None, Do you know local or online resources to seek help for a mental health issue?=None, <strong>If you have been diagnosed or treated for a mental health disorder, do you ever reveal this to clients or business contacts?</strong>=None, If you have revealed a mental health disorder to a client or business contact, how has this affected you or the relationship?=None, <strong>If you have been diagnosed or treated for a mental health disorder, do you ever reveal this to coworkers or employees?</strong>=None, If you have revealed a mental health disorder to a coworker or employee, how has this impacted you or the relationship?=None, Do you believe your productivity is ever affected by a mental health issue?=None, If yes, what percentage of your work time (time performing primary or secondary job functions) is affected by a mental health issue?=None, <strong>Do you have previous employers?</strong>='0', Was your employer primarily a tech company/organization?=None, <strong>Have your previous employers provided mental health benefits?</strong>=None, <strong>Were you aware of the options for mental health care provided by your previous employers?</strong>=None, Did your previous employers ever formally discuss mental health (as part of a wellness campaign or other official communication)?=None, Did your previous employers provide resources to learn more about mental health disorders and how to seek help?=None, Was your anonymity protected if you chose to take advantage of mental health or substance abuse treatment resources with previous employers?=None, Would you have felt more comfortable talking to your previous employer about your physical health or your mental health?=None, Would you have been willing to discuss your mental health with your direct supervisor(s)?=None, Did you ever discuss your mental health with your previous employer?=None, Describe the conversation you had with your previous employer about your mental health, including their reactions and actions taken to address your mental health issue/questions.=None, <strong>Would you have been willing to discuss your mental health with your coworkers at previous employers?</strong>=None, Did you ever discuss your mental health with a previous coworker(s)?=None, Describe the conversation you had with your previous coworkers about your mental health including their reactions.=None, Did you ever have a previous coworker discuss their or another coworker's mental health with you?=None, Describe the conversation your coworker had with you about their mental health (please do not use names).45=None, Overall, how much importance did your previous employer place on physical health?=None, Overall, how much importance did your previous employer place on mental health?=None, Do you currently have a mental health disorder?='Yes', Have you ever been diagnosed with a mental health disorder?='Yes', Anxiety Disorder (Generalized, Social, Phobia, etc)50=None, Mood Disorder (Depression, Bipolar Disorder, etc)51=None, Psychotic Disorder (Schizophrenia, Schizoaffective, etc)52=None, Eating Disorder (Anorexia, Bulimia, etc)53=None, Attention Deficit Hyperactivity Disorder54=None, Personality Disorder (Borderline, Antisocial, Paranoid, etc)55=None, Obsessive-Compulsive Disorder56=None, Post-Traumatic Stress Disorder57=None, Stress Response Syndromes58=None, Dissociative Disorder59=None, Substance Use Disorder60=None, Addictive Disorder61=None, Other62=None, Anxiety Disorder (Generalized, Social, Phobia, etc)63=None, Mood Disorder (Depression, Bipolar Disorder, etc)64=None, Psychotic Disorder (Schizophrenia, Schizoaffective, etc)65=None, Eating Disorder (Anorexia, Bulimia, etc)66=None, Attention Deficit Hyperactivity Disorder67=None, Personality Disorder (Borderline, Antisocial, Paranoid, etc)68=None, Obsessive-Compulsive Disorder69=None, Post-traumatic Stress Disorder70=None, Stress Response Syndromes71=None, Dissociative Disorder72=None, Substance Use Disorder73=None, Addictive Disorder74=None, Other75=None, Anxiety Disorder (Generalized, Social, Phobia, etc)76='Anxiety Disorder (Generalized, Social, Phobia, etc)', Mood Disorder (Depression, Bipolar Disorder, etc)77='Mood Disorder (Depression, Bipolar Disorder, etc)', Psychotic Disorder (Schizophrenia, Schizoaffective, etc)78=None, Eating Disorder (Anorexia, Bulimia, etc)79=None, Attention Deficit Hyperactivity Disorder80=None, Personality Disorder (Borderline, Antisocial, Paranoid, etc)81=None, Obsessive-Compulsive Disorder82=None, Post-traumatic Stress Disorder83='Post-traumatic Stress Disorder', Stress Response Syndromes84=None, Dissociative Disorder85=None, Substance Use Disorder86=None, Addictive Disorder87=None, Other88=None, Have you had a mental health disorder in the past?='Yes', Have you ever sought treatment for a mental health disorder from a mental health professional?='1', Do you have a family history of mental illness?='Yes', If you have a mental health disorder, how often do you feel that it interferes with your work <strong>when being treated effectively?</strong>='Sometimes', If you have a mental health disorder, how often do you feel that it interferes with your work <strong>when</strong> <em><strong>NOT</strong></em><strong> being treated effectively (i.e., when you are experiencing symptoms)?</strong>='Often', Have your observations of how another individual who discussed a mental health issue made you less likely to reveal a mental health issue yourself in your current workplace?='N/A', How willing would you be to share with friends and family that you have a mental illness?='3', Would you be willing to bring up a physical health issue with a potential employer in an interview?='Yes', Why or why not?97='because why not', Would you bring up your mental health with a potential employer in an interview?='No', Why or why not?99='because i am at least 51% sure it would affect my chances of getting the job', Are you openly identified at work as a person with a mental health issue?='0', Has being identified as a person with a mental health issue affected your career?=None, How has it affected your career?=None, If they knew you suffered from a mental health disorder, how do you think that team members/co-workers would react?='3', <strong>Have you observed or experienced an unsupportive or badly handled response to a mental health issue in your current or previous workplace?</strong>='No', Describe the circumstances of the badly handled or unsupportive response.=None, <strong>Have you observed or experienced supportive or well handled response to a mental health issue in your current or previous workplace?</strong>='No', Describe the circumstances of the supportive or well handled response.=None, Overall, how well do you think the tech industry supports employees with mental health issues?='3', Briefly describe what you think the industry as a whole and/or employers could do to improve mental health support for employees.=\"it's a comfort thing at this point imo, needs to be talked about so it doesn't feel weird to bring up issues\", If there is anything else you would like to tell us that has not been covered by the survey questions, please use this space to do so.=None, Would you be willing to talk to one of us more extensively about your experiences with mental health issues in the tech industry? (Note that all interview responses would be used <em>anonymously</em> and only with your permission.)='1', What is your age?='29', What is your gender?='male', What country do you <strong>live</strong> in?='United States of America', What US state or territory do you <strong>live</strong> in?='Massachusetts', What is your race?='White', Other117=None, What country do you <strong>work</strong> in?='United States of America', What US state or territory do you <strong>work</strong> in?='Massachusetts', Start Date (UTC)='2018-12-27 21:40:40', Submit Date (UTC)='2018-12-27 21:45:45', Network ID='275e7543bd'),\n",
       " Row(<strong>Are you self-employed?</strong>='0', How many employees does your company or organization have?='6-25', Is your employer primarily a tech company/organization?='0', Is your primary role within your company related to tech/IT?='1', Does your employer provide mental health benefits as part of healthcare coverage?='Yes', Do you know the options for mental health care available under your employer-provided health coverage?='Yes', Has your employer ever formally discussed mental health (for example, as part of a wellness campaign or other official communication)?='No', Does your employer offer resources to learn more about mental health disorders and options for seeking help?='No', Is your anonymity protected if you choose to take advantage of mental health or substance abuse treatment resources provided by your employer?=\"I don't know\", If a mental health issue prompted you to request a medical leave from work, how easy or difficult would it be to ask for that leave?='Somewhat easy', Would you feel more comfortable talking to your coworkers about your physical health or your mental health?='Physical health', Would you feel comfortable discussing a mental health issue with your direct supervisor(s)?='No', Have you ever discussed your mental health with your employer?='0', Describe the conversation you had with your employer about your mental health, including their reactions and what actions were taken to address your mental health issue/questions.=None, Would you feel comfortable discussing a mental health issue with your coworkers?='No', Have you ever discussed your mental health with coworkers?='0', Describe the conversation with coworkers you had about your mental health including their reactions.=None, Have you ever had a coworker discuss their or another coworker's mental health with you?='1', Describe the conversation your coworker had with you about their mental health (please do not use names).19=\"We had a coworker have a drastic turn in behavior over the course of two weeks. He was going through a potential divorce and the stress became unbearable. We had two concerns. First, what could we do to ensure he got the help he needed, and second, what did we have to do at the office to mitigate the reputational and other damage caused by him having a dramatic episode in the office. We did those things, he did get help, and took about a month leave of absence. Of course, we've seen issues ranging from work-related stress to difficult family circumstances, but nothing, in our minds, that rose to the level of intervention as was the case with the first employee.\", Overall, how much importance does your employer place on physical health?='3', Overall, how much importance does your employer place on mental health?='1', Do you have medical coverage (private insurance or state-provided) that includes treatment of mental health disorders?=None, Do you know local or online resources to seek help for a mental health issue?=None, <strong>If you have been diagnosed or treated for a mental health disorder, do you ever reveal this to clients or business contacts?</strong>=None, If you have revealed a mental health disorder to a client or business contact, how has this affected you or the relationship?=None, <strong>If you have been diagnosed or treated for a mental health disorder, do you ever reveal this to coworkers or employees?</strong>=None, If you have revealed a mental health disorder to a coworker or employee, how has this impacted you or the relationship?=None, Do you believe your productivity is ever affected by a mental health issue?=None, If yes, what percentage of your work time (time performing primary or secondary job functions) is affected by a mental health issue?=None, <strong>Do you have previous employers?</strong>='1', Was your employer primarily a tech company/organization?='1', <strong>Have your previous employers provided mental health benefits?</strong>='Yes, they all did', <strong>Were you aware of the options for mental health care provided by your previous employers?</strong>='Yes, I was aware of all of them', Did your previous employers ever formally discuss mental health (as part of a wellness campaign or other official communication)?='Some did', Did your previous employers provide resources to learn more about mental health disorders and how to seek help?='Some did', Was your anonymity protected if you chose to take advantage of mental health or substance abuse treatment resources with previous employers?=\"I don't know\", Would you have felt more comfortable talking to your previous employer about your physical health or your mental health?='Physical health', Would you have been willing to discuss your mental health with your direct supervisor(s)?='No, none of my previous supervisors', Did you ever discuss your mental health with your previous employer?='0', Describe the conversation you had with your previous employer about your mental health, including their reactions and actions taken to address your mental health issue/questions.=None, <strong>Would you have been willing to discuss your mental health with your coworkers at previous employers?</strong>='No, at none of my previous employers', Did you ever discuss your mental health with a previous coworker(s)?='0', Describe the conversation you had with your previous coworkers about your mental health including their reactions.=None, Did you ever have a previous coworker discuss their or another coworker's mental health with you?='0', Describe the conversation your coworker had with you about their mental health (please do not use names).45=None, Overall, how much importance did your previous employer place on physical health?='4', Overall, how much importance did your previous employer place on mental health?='1', Do you currently have a mental health disorder?='No', Have you ever been diagnosed with a mental health disorder?=None, Anxiety Disorder (Generalized, Social, Phobia, etc)50=None, Mood Disorder (Depression, Bipolar Disorder, etc)51=None, Psychotic Disorder (Schizophrenia, Schizoaffective, etc)52=None, Eating Disorder (Anorexia, Bulimia, etc)53=None, Attention Deficit Hyperactivity Disorder54=None, Personality Disorder (Borderline, Antisocial, Paranoid, etc)55=None, Obsessive-Compulsive Disorder56=None, Post-Traumatic Stress Disorder57=None, Stress Response Syndromes58=None, Dissociative Disorder59=None, Substance Use Disorder60=None, Addictive Disorder61=None, Other62=None, Anxiety Disorder (Generalized, Social, Phobia, etc)63=None, Mood Disorder (Depression, Bipolar Disorder, etc)64=None, Psychotic Disorder (Schizophrenia, Schizoaffective, etc)65=None, Eating Disorder (Anorexia, Bulimia, etc)66=None, Attention Deficit Hyperactivity Disorder67=None, Personality Disorder (Borderline, Antisocial, Paranoid, etc)68=None, Obsessive-Compulsive Disorder69=None, Post-traumatic Stress Disorder70=None, Stress Response Syndromes71=None, Dissociative Disorder72=None, Substance Use Disorder73=None, Addictive Disorder74=None, Other75=None, Anxiety Disorder (Generalized, Social, Phobia, etc)76=None, Mood Disorder (Depression, Bipolar Disorder, etc)77=None, Psychotic Disorder (Schizophrenia, Schizoaffective, etc)78=None, Eating Disorder (Anorexia, Bulimia, etc)79=None, Attention Deficit Hyperactivity Disorder80=None, Personality Disorder (Borderline, Antisocial, Paranoid, etc)81=None, Obsessive-Compulsive Disorder82=None, Post-traumatic Stress Disorder83=None, Stress Response Syndromes84=None, Dissociative Disorder85=None, Substance Use Disorder86=None, Addictive Disorder87=None, Other88=None, Have you had a mental health disorder in the past?='No', Have you ever sought treatment for a mental health disorder from a mental health professional?='0', Do you have a family history of mental illness?='Yes', If you have a mental health disorder, how often do you feel that it interferes with your work <strong>when being treated effectively?</strong>='Not applicable to me', If you have a mental health disorder, how often do you feel that it interferes with your work <strong>when</strong> <em><strong>NOT</strong></em><strong> being treated effectively (i.e., when you are experiencing symptoms)?</strong>='Not applicable to me', Have your observations of how another individual who discussed a mental health issue made you less likely to reveal a mental health issue yourself in your current workplace?='N/A', How willing would you be to share with friends and family that you have a mental illness?='2', Would you be willing to bring up a physical health issue with a potential employer in an interview?='No', Why or why not?97=\"I wouldn't bring it up unless it would potentially impact my ability to do the work or if I required special accommodations.\", Would you bring up your mental health with a potential employer in an interview?='No', Why or why not?99=\"Mainly because I don't suffer from a mental health issue. I don't think I would bring it up if I did because I would believe it would be viewed negatively relative to their willingness to hire me.\", Are you openly identified at work as a person with a mental health issue?='0', Has being identified as a person with a mental health issue affected your career?=None, How has it affected your career?=None, If they knew you suffered from a mental health disorder, how do you think that team members/co-workers would react?='9', <strong>Have you observed or experienced an unsupportive or badly handled response to a mental health issue in your current or previous workplace?</strong>='No', Describe the circumstances of the badly handled or unsupportive response.=None, <strong>Have you observed or experienced supportive or well handled response to a mental health issue in your current or previous workplace?</strong>='Maybe/Not sure', Describe the circumstances of the supportive or well handled response.=None, Overall, how well do you think the tech industry supports employees with mental health issues?='3', Briefly describe what you think the industry as a whole and/or employers could do to improve mental health support for employees.=\"If it is mentioned at all, it's during a meeting to go over benefits. The same was true with welness programs at all of my employers. It could be greatly improved by socializing the availability of benefits and resources throughout the year--especially around holidays when lots of folks struggle.\", If there is anything else you would like to tell us that has not been covered by the survey questions, please use this space to do so.='\"I thinka lot of people \"\"grin and bear it\"\". I\\'ve followed what OSMH has been doing with interest because it seems so obvious and so right. It also occurs to me that the stigma will take a generation to work through. It\\'s going to be a long road to get from starting a conversation at work to acceptance.\"', Would you be willing to talk to one of us more extensively about your experiences with mental health issues in the tech industry? (Note that all interview responses would be used <em>anonymously</em> and only with your permission.)='0', What is your age?='46', What is your gender?='Male', What country do you <strong>live</strong> in?='United States of America', What US state or territory do you <strong>live</strong> in?='Florida', What is your race?='White', Other117=None, What country do you <strong>work</strong> in?='United States of America', What US state or territory do you <strong>work</strong> in?='Florida', Start Date (UTC)='2018-12-21 17:37:43', Submit Date (UTC)='2018-12-21 18:08:01', Network ID='43994c3dba'),\n",
       " Row(<strong>Are you self-employed?</strong>='0', How many employees does your company or organization have?='6-25', Is your employer primarily a tech company/organization?='1', Is your primary role within your company related to tech/IT?='1', Does your employer provide mental health benefits as part of healthcare coverage?='No', Do you know the options for mental health care available under your employer-provided health coverage?='No', Has your employer ever formally discussed mental health (for example, as part of a wellness campaign or other official communication)?='No', Does your employer offer resources to learn more about mental health disorders and options for seeking help?='No', Is your anonymity protected if you choose to take advantage of mental health or substance abuse treatment resources provided by your employer?=\"I don't know\", If a mental health issue prompted you to request a medical leave from work, how easy or difficult would it be to ask for that leave?='Neither easy nor difficult', Would you feel more comfortable talking to your coworkers about your physical health or your mental health?='Physical health', Would you feel comfortable discussing a mental health issue with your direct supervisor(s)?='No', Have you ever discussed your mental health with your employer?='0', Describe the conversation you had with your employer about your mental health, including their reactions and what actions were taken to address your mental health issue/questions.=None, Would you feel comfortable discussing a mental health issue with your coworkers?='Maybe', Have you ever discussed your mental health with coworkers?='0', Describe the conversation with coworkers you had about your mental health including their reactions.=None, Have you ever had a coworker discuss their or another coworker's mental health with you?='1', Describe the conversation your coworker had with you about their mental health (please do not use names).19=None, Overall, how much importance does your employer place on physical health?='8', Overall, how much importance does your employer place on mental health?='8', Do you have medical coverage (private insurance or state-provided) that includes treatment of mental health disorders?=None, Do you know local or online resources to seek help for a mental health issue?=None, <strong>If you have been diagnosed or treated for a mental health disorder, do you ever reveal this to clients or business contacts?</strong>=None, If you have revealed a mental health disorder to a client or business contact, how has this affected you or the relationship?=None, <strong>If you have been diagnosed or treated for a mental health disorder, do you ever reveal this to coworkers or employees?</strong>=None, If you have revealed a mental health disorder to a coworker or employee, how has this impacted you or the relationship?=None, Do you believe your productivity is ever affected by a mental health issue?=None, If yes, what percentage of your work time (time performing primary or secondary job functions) is affected by a mental health issue?=None, <strong>Do you have previous employers?</strong>='1', Was your employer primarily a tech company/organization?='1', <strong>Have your previous employers provided mental health benefits?</strong>='No, none did', <strong>Were you aware of the options for mental health care provided by your previous employers?</strong>='N/A (was not aware)', Did your previous employers ever formally discuss mental health (as part of a wellness campaign or other official communication)?='None did', Did your previous employers provide resources to learn more about mental health disorders and how to seek help?='None did', Was your anonymity protected if you chose to take advantage of mental health or substance abuse treatment resources with previous employers?=\"I don't know\", Would you have felt more comfortable talking to your previous employer about your physical health or your mental health?='Physical health', Would you have been willing to discuss your mental health with your direct supervisor(s)?='No, none of my previous supervisors', Did you ever discuss your mental health with your previous employer?='0', Describe the conversation you had with your previous employer about your mental health, including their reactions and actions taken to address your mental health issue/questions.=None, <strong>Would you have been willing to discuss your mental health with your coworkers at previous employers?</strong>='At some of my previous employers', Did you ever discuss your mental health with a previous coworker(s)?='0', Describe the conversation you had with your previous coworkers about your mental health including their reactions.=None, Did you ever have a previous coworker discuss their or another coworker's mental health with you?='1', Describe the conversation your coworker had with you about their mental health (please do not use names).45=None, Overall, how much importance did your previous employer place on physical health?='8', Overall, how much importance did your previous employer place on mental health?='8', Do you currently have a mental health disorder?='No', Have you ever been diagnosed with a mental health disorder?=None, Anxiety Disorder (Generalized, Social, Phobia, etc)50=None, Mood Disorder (Depression, Bipolar Disorder, etc)51=None, Psychotic Disorder (Schizophrenia, Schizoaffective, etc)52=None, Eating Disorder (Anorexia, Bulimia, etc)53=None, Attention Deficit Hyperactivity Disorder54=None, Personality Disorder (Borderline, Antisocial, Paranoid, etc)55=None, Obsessive-Compulsive Disorder56=None, Post-Traumatic Stress Disorder57=None, Stress Response Syndromes58=None, Dissociative Disorder59=None, Substance Use Disorder60=None, Addictive Disorder61=None, Other62=None, Anxiety Disorder (Generalized, Social, Phobia, etc)63=None, Mood Disorder (Depression, Bipolar Disorder, etc)64=None, Psychotic Disorder (Schizophrenia, Schizoaffective, etc)65=None, Eating Disorder (Anorexia, Bulimia, etc)66=None, Attention Deficit Hyperactivity Disorder67=None, Personality Disorder (Borderline, Antisocial, Paranoid, etc)68=None, Obsessive-Compulsive Disorder69=None, Post-traumatic Stress Disorder70=None, Stress Response Syndromes71=None, Dissociative Disorder72=None, Substance Use Disorder73=None, Addictive Disorder74=None, Other75=None, Anxiety Disorder (Generalized, Social, Phobia, etc)76=None, Mood Disorder (Depression, Bipolar Disorder, etc)77=None, Psychotic Disorder (Schizophrenia, Schizoaffective, etc)78=None, Eating Disorder (Anorexia, Bulimia, etc)79=None, Attention Deficit Hyperactivity Disorder80=None, Personality Disorder (Borderline, Antisocial, Paranoid, etc)81=None, Obsessive-Compulsive Disorder82=None, Post-traumatic Stress Disorder83=None, Stress Response Syndromes84=None, Dissociative Disorder85=None, Substance Use Disorder86=None, Addictive Disorder87=None, Other88=None, Have you had a mental health disorder in the past?='No', Have you ever sought treatment for a mental health disorder from a mental health professional?='0', Do you have a family history of mental illness?='No', If you have a mental health disorder, how often do you feel that it interferes with your work <strong>when being treated effectively?</strong>='Not applicable to me', If you have a mental health disorder, how often do you feel that it interferes with your work <strong>when</strong> <em><strong>NOT</strong></em><strong> being treated effectively (i.e., when you are experiencing symptoms)?</strong>='Not applicable to me', Have your observations of how another individual who discussed a mental health issue made you less likely to reveal a mental health issue yourself in your current workplace?='Maybe', How willing would you be to share with friends and family that you have a mental illness?='9', Would you be willing to bring up a physical health issue with a potential employer in an interview?='No', Why or why not?97=None, Would you bring up your mental health with a potential employer in an interview?='No', Why or why not?99=None, Are you openly identified at work as a person with a mental health issue?='0', Has being identified as a person with a mental health issue affected your career?=None, How has it affected your career?=None, If they knew you suffered from a mental health disorder, how do you think that team members/co-workers would react?='5', <strong>Have you observed or experienced an unsupportive or badly handled response to a mental health issue in your current or previous workplace?</strong>='No', Describe the circumstances of the badly handled or unsupportive response.=None, <strong>Have you observed or experienced supportive or well handled response to a mental health issue in your current or previous workplace?</strong>='Maybe/Not sure', Describe the circumstances of the supportive or well handled response.=None, Overall, how well do you think the tech industry supports employees with mental health issues?='1', Briefly describe what you think the industry as a whole and/or employers could do to improve mental health support for employees.=None, If there is anything else you would like to tell us that has not been covered by the survey questions, please use this space to do so.=None, Would you be willing to talk to one of us more extensively about your experiences with mental health issues in the tech industry? (Note that all interview responses would be used <em>anonymously</em> and only with your permission.)='0', What is your age?='34', What is your gender?='male', What country do you <strong>live</strong> in?='Norway', What US state or territory do you <strong>live</strong> in?=None, What is your race?=None, Other117=None, What country do you <strong>work</strong> in?='Norway', What US state or territory do you <strong>work</strong> in?=None, Start Date (UTC)='2018-12-21 16:37:56', Submit Date (UTC)='2018-12-21 16:44:44', Network ID='907b3a3faa'),\n",
       " Row(<strong>Are you self-employed?</strong>='0', How many employees does your company or organization have?='26-100', Is your employer primarily a tech company/organization?='1', Is your primary role within your company related to tech/IT?='1', Does your employer provide mental health benefits as part of healthcare coverage?='Yes', Do you know the options for mental health care available under your employer-provided health coverage?='Yes', Has your employer ever formally discussed mental health (for example, as part of a wellness campaign or other official communication)?='Yes', Does your employer offer resources to learn more about mental health disorders and options for seeking help?='Yes', Is your anonymity protected if you choose to take advantage of mental health or substance abuse treatment resources provided by your employer?='Yes', If a mental health issue prompted you to request a medical leave from work, how easy or difficult would it be to ask for that leave?='Somewhat easy', Would you feel more comfortable talking to your coworkers about your physical health or your mental health?='Same level of comfort for each', Would you feel comfortable discussing a mental health issue with your direct supervisor(s)?='Yes', Have you ever discussed your mental health with your employer?='1', Describe the conversation you had with your employer about your mental health, including their reactions and what actions were taken to address your mental health issue/questions.='\"\"\"Hey', Would you feel comfortable discussing a mental health issue with your coworkers?=' I have a lot of anxiety sometimes.\"\"  \"\"Oh.  I know that feeling.  I had to go to the doctor years ago about it.  I\\'m better off now', Have you ever discussed your mental health with coworkers?=' but it sucked for a while.\"\"\"', Describe the conversation with coworkers you had about your mental health including their reactions.='Yes', Have you ever had a coworker discuss their or another coworker's mental health with you?='1', Describe the conversation your coworker had with you about their mental health (please do not use names).19=None, Overall, how much importance does your employer place on physical health?='1', Overall, how much importance does your employer place on mental health?=None, Do you have medical coverage (private insurance or state-provided) that includes treatment of mental health disorders?='7', Do you know local or online resources to seek help for a mental health issue?='5', <strong>If you have been diagnosed or treated for a mental health disorder, do you ever reveal this to clients or business contacts?</strong>=None, If you have revealed a mental health disorder to a client or business contact, how has this affected you or the relationship?=None, <strong>If you have been diagnosed or treated for a mental health disorder, do you ever reveal this to coworkers or employees?</strong>=None, If you have revealed a mental health disorder to a coworker or employee, how has this impacted you or the relationship?=None, Do you believe your productivity is ever affected by a mental health issue?=None, If yes, what percentage of your work time (time performing primary or secondary job functions) is affected by a mental health issue?=None, <strong>Do you have previous employers?</strong>=None, Was your employer primarily a tech company/organization?=None, <strong>Have your previous employers provided mental health benefits?</strong>='1', <strong>Were you aware of the options for mental health care provided by your previous employers?</strong>='1', Did your previous employers ever formally discuss mental health (as part of a wellness campaign or other official communication)?='No, none did', Did your previous employers provide resources to learn more about mental health disorders and how to seek help?='N/A (none offered)', Was your anonymity protected if you chose to take advantage of mental health or substance abuse treatment resources with previous employers?='None did', Would you have felt more comfortable talking to your previous employer about your physical health or your mental health?='None did', Would you have been willing to discuss your mental health with your direct supervisor(s)?='No', Did you ever discuss your mental health with your previous employer?='Same level of comfort for each', Describe the conversation you had with your previous employer about your mental health, including their reactions and actions taken to address your mental health issue/questions.='Some of my previous supervisors', <strong>Would you have been willing to discuss your mental health with your coworkers at previous employers?</strong>='1', Did you ever discuss your mental health with a previous coworker(s)?='\"\"\"Hey', Describe the conversation you had with your previous coworkers about your mental health including their reactions.=' this is a lot of pressure you\\'re putting on me.\"\"  \"\"Pressure makes diamonds!\"\"  This is a literal quote.\"', Did you ever have a previous coworker discuss their or another coworker's mental health with you?='At some of my previous employers', Describe the conversation your coworker had with you about their mental health (please do not use names).45='1', Overall, how much importance did your previous employer place on physical health?=None, Overall, how much importance did your previous employer place on mental health?='1', Do you currently have a mental health disorder?=None, Have you ever been diagnosed with a mental health disorder?='3', Anxiety Disorder (Generalized, Social, Phobia, etc)50='0', Mood Disorder (Depression, Bipolar Disorder, etc)51='Yes', Psychotic Disorder (Schizophrenia, Schizoaffective, etc)52='Yes', Eating Disorder (Anorexia, Bulimia, etc)53=None, Attention Deficit Hyperactivity Disorder54=None, Personality Disorder (Borderline, Antisocial, Paranoid, etc)55=None, Obsessive-Compulsive Disorder56=None, Post-Traumatic Stress Disorder57=None, Stress Response Syndromes58=None, Dissociative Disorder59=None, Substance Use Disorder60=None, Addictive Disorder61=None, Other62=None, Anxiety Disorder (Generalized, Social, Phobia, etc)63=None, Mood Disorder (Depression, Bipolar Disorder, etc)64=None, Psychotic Disorder (Schizophrenia, Schizoaffective, etc)65=None, Eating Disorder (Anorexia, Bulimia, etc)66=None, Attention Deficit Hyperactivity Disorder67=None, Personality Disorder (Borderline, Antisocial, Paranoid, etc)68=None, Obsessive-Compulsive Disorder69=None, Post-traumatic Stress Disorder70=None, Stress Response Syndromes71=None, Dissociative Disorder72=None, Substance Use Disorder73=None, Addictive Disorder74=None, Other75=None, Anxiety Disorder (Generalized, Social, Phobia, etc)76=None, Mood Disorder (Depression, Bipolar Disorder, etc)77=None, Psychotic Disorder (Schizophrenia, Schizoaffective, etc)78=None, Eating Disorder (Anorexia, Bulimia, etc)79='Anxiety Disorder (Generalized, Social, Phobia, etc)', Attention Deficit Hyperactivity Disorder80='Mood Disorder (Depression, Bipolar Disorder, etc)', Personality Disorder (Borderline, Antisocial, Paranoid, etc)81=None, Obsessive-Compulsive Disorder82=None, Post-traumatic Stress Disorder83='Attention Deficit Hyperactivity Disorder', Stress Response Syndromes84='Personality Disorder (Borderline, Antisocial, Paranoid, etc)', Dissociative Disorder85=None, Substance Use Disorder86=None, Addictive Disorder87=None, Other88=None, Have you had a mental health disorder in the past?=None, Have you ever sought treatment for a mental health disorder from a mental health professional?=None, Do you have a family history of mental illness?=None, If you have a mental health disorder, how often do you feel that it interferes with your work <strong>when being treated effectively?</strong>='Yes', If you have a mental health disorder, how often do you feel that it interferes with your work <strong>when</strong> <em><strong>NOT</strong></em><strong> being treated effectively (i.e., when you are experiencing symptoms)?</strong>='1', Have your observations of how another individual who discussed a mental health issue made you less likely to reveal a mental health issue yourself in your current workplace?='Yes', How willing would you be to share with friends and family that you have a mental illness?='Rarely', Would you be willing to bring up a physical health issue with a potential employer in an interview?='Sometimes', Why or why not?97='No', Would you bring up your mental health with a potential employer in an interview?='7', Why or why not?99='Yes', Are you openly identified at work as a person with a mental health issue?=None, Has being identified as a person with a mental health issue affected your career?='Yes', How has it affected your career?=\"They should know what I need and expect.  If they can't meet it, it's not a good fit.\", If they knew you suffered from a mental health disorder, how do you think that team members/co-workers would react?='1', <strong>Have you observed or experienced an unsupportive or badly handled response to a mental health issue in your current or previous workplace?</strong>='0', Describe the circumstances of the badly handled or unsupportive response.=None, <strong>Have you observed or experienced supportive or well handled response to a mental health issue in your current or previous workplace?</strong>='5', Describe the circumstances of the supportive or well handled response.='Yes, I observed', Overall, how well do you think the tech industry supports employees with mental health issues?=None, Briefly describe what you think the industry as a whole and/or employers could do to improve mental health support for employees.='Yes, I observed', If there is anything else you would like to tell us that has not been covered by the survey questions, please use this space to do so.=None, Would you be willing to talk to one of us more extensively about your experiences with mental health issues in the tech industry? (Note that all interview responses would be used <em>anonymously</em> and only with your permission.)='4', What is your age?=None, What is your gender?=None, What country do you <strong>live</strong> in?='1', What US state or territory do you <strong>live</strong> in?='29', What is your race?='Ostensibly Male', Other117='United States of America', What country do you <strong>work</strong> in?='Tennessee', What US state or territory do you <strong>work</strong> in?='White', Start Date (UTC)=None, Submit Date (UTC)='United States of America', Network ID='Tennessee')]"
      ]
     },
     "execution_count": 4,
     "metadata": {},
     "output_type": "execute_result"
    }
   ],
   "source": [
    "data_2018=data_2018.drop('#')\n",
    "data_2018.take(5)"
   ]
  },
  {
   "cell_type": "code",
   "execution_count": 5,
   "metadata": {},
   "outputs": [
    {
     "name": "stdout",
     "output_type": "stream",
     "text": [
      "root\n",
      " |-- <strong>Are you self-employed?</strong>: string (nullable = true)\n",
      " |-- How many employees does your company or organization have?: string (nullable = true)\n",
      " |-- Is your employer primarily a tech company/organization?: string (nullable = true)\n",
      " |-- Is your primary role within your company related to tech/IT?: string (nullable = true)\n",
      " |-- Does your employer provide mental health benefits as part of healthcare coverage?: string (nullable = true)\n",
      " |-- Do you know the options for mental health care available under your employer-provided health coverage?: string (nullable = true)\n",
      " |-- Has your employer ever formally discussed mental health (for example, as part of a wellness campaign or other official communication)?: string (nullable = true)\n",
      " |-- Does your employer offer resources to learn more about mental health disorders and options for seeking help?: string (nullable = true)\n",
      " |-- Is your anonymity protected if you choose to take advantage of mental health or substance abuse treatment resources provided by your employer?: string (nullable = true)\n",
      " |-- If a mental health issue prompted you to request a medical leave from work, how easy or difficult would it be to ask for that leave?: string (nullable = true)\n",
      " |-- Would you feel more comfortable talking to your coworkers about your physical health or your mental health?: string (nullable = true)\n",
      " |-- Would you feel comfortable discussing a mental health issue with your direct supervisor(s)?: string (nullable = true)\n",
      " |-- Have you ever discussed your mental health with your employer?: string (nullable = true)\n",
      " |-- Describe the conversation you had with your employer about your mental health, including their reactions and what actions were taken to address your mental health issue/questions.: string (nullable = true)\n",
      " |-- Would you feel comfortable discussing a mental health issue with your coworkers?: string (nullable = true)\n",
      " |-- Have you ever discussed your mental health with coworkers?: string (nullable = true)\n",
      " |-- Describe the conversation with coworkers you had about your mental health including their reactions.: string (nullable = true)\n",
      " |-- Have you ever had a coworker discuss their or another coworker's mental health with you?: string (nullable = true)\n",
      " |-- Describe the conversation your coworker had with you about their mental health (please do not use names).19: string (nullable = true)\n",
      " |-- Overall, how much importance does your employer place on physical health?: string (nullable = true)\n",
      " |-- Overall, how much importance does your employer place on mental health?: string (nullable = true)\n",
      " |-- Do you have medical coverage (private insurance or state-provided) that includes treatment of mental health disorders?: string (nullable = true)\n",
      " |-- Do you know local or online resources to seek help for a mental health issue?: string (nullable = true)\n",
      " |-- <strong>If you have been diagnosed or treated for a mental health disorder, do you ever reveal this to clients or business contacts?</strong>: string (nullable = true)\n",
      " |-- If you have revealed a mental health disorder to a client or business contact, how has this affected you or the relationship?: string (nullable = true)\n",
      " |-- <strong>If you have been diagnosed or treated for a mental health disorder, do you ever reveal this to coworkers or employees?</strong>: string (nullable = true)\n",
      " |-- If you have revealed a mental health disorder to a coworker or employee, how has this impacted you or the relationship?: string (nullable = true)\n",
      " |-- Do you believe your productivity is ever affected by a mental health issue?: string (nullable = true)\n",
      " |-- If yes, what percentage of your work time (time performing primary or secondary job functions) is affected by a mental health issue?: string (nullable = true)\n",
      " |-- <strong>Do you have previous employers?</strong>: string (nullable = true)\n",
      " |-- Was your employer primarily a tech company/organization?: string (nullable = true)\n",
      " |-- <strong>Have your previous employers provided mental health benefits?</strong>: string (nullable = true)\n",
      " |-- <strong>Were you aware of the options for mental health care provided by your previous employers?</strong>: string (nullable = true)\n",
      " |-- Did your previous employers ever formally discuss mental health (as part of a wellness campaign or other official communication)?: string (nullable = true)\n",
      " |-- Did your previous employers provide resources to learn more about mental health disorders and how to seek help?: string (nullable = true)\n",
      " |-- Was your anonymity protected if you chose to take advantage of mental health or substance abuse treatment resources with previous employers?: string (nullable = true)\n",
      " |-- Would you have felt more comfortable talking to your previous employer about your physical health or your mental health?: string (nullable = true)\n",
      " |-- Would you have been willing to discuss your mental health with your direct supervisor(s)?: string (nullable = true)\n",
      " |-- Did you ever discuss your mental health with your previous employer?: string (nullable = true)\n",
      " |-- Describe the conversation you had with your previous employer about your mental health, including their reactions and actions taken to address your mental health issue/questions.: string (nullable = true)\n",
      " |-- <strong>Would you have been willing to discuss your mental health with your coworkers at previous employers?</strong>: string (nullable = true)\n",
      " |-- Did you ever discuss your mental health with a previous coworker(s)?: string (nullable = true)\n",
      " |-- Describe the conversation you had with your previous coworkers about your mental health including their reactions.: string (nullable = true)\n",
      " |-- Did you ever have a previous coworker discuss their or another coworker's mental health with you?: string (nullable = true)\n",
      " |-- Describe the conversation your coworker had with you about their mental health (please do not use names).45: string (nullable = true)\n",
      " |-- Overall, how much importance did your previous employer place on physical health?: string (nullable = true)\n",
      " |-- Overall, how much importance did your previous employer place on mental health?: string (nullable = true)\n",
      " |-- Do you currently have a mental health disorder?: string (nullable = true)\n",
      " |-- Have you ever been diagnosed with a mental health disorder?: string (nullable = true)\n",
      " |-- Anxiety Disorder (Generalized, Social, Phobia, etc)50: string (nullable = true)\n",
      " |-- Mood Disorder (Depression, Bipolar Disorder, etc)51: string (nullable = true)\n",
      " |-- Psychotic Disorder (Schizophrenia, Schizoaffective, etc)52: string (nullable = true)\n",
      " |-- Eating Disorder (Anorexia, Bulimia, etc)53: string (nullable = true)\n",
      " |-- Attention Deficit Hyperactivity Disorder54: string (nullable = true)\n",
      " |-- Personality Disorder (Borderline, Antisocial, Paranoid, etc)55: string (nullable = true)\n",
      " |-- Obsessive-Compulsive Disorder56: string (nullable = true)\n",
      " |-- Post-Traumatic Stress Disorder57: string (nullable = true)\n",
      " |-- Stress Response Syndromes58: string (nullable = true)\n",
      " |-- Dissociative Disorder59: string (nullable = true)\n",
      " |-- Substance Use Disorder60: string (nullable = true)\n",
      " |-- Addictive Disorder61: string (nullable = true)\n",
      " |-- Other62: string (nullable = true)\n",
      " |-- Anxiety Disorder (Generalized, Social, Phobia, etc)63: string (nullable = true)\n",
      " |-- Mood Disorder (Depression, Bipolar Disorder, etc)64: string (nullable = true)\n",
      " |-- Psychotic Disorder (Schizophrenia, Schizoaffective, etc)65: string (nullable = true)\n",
      " |-- Eating Disorder (Anorexia, Bulimia, etc)66: string (nullable = true)\n",
      " |-- Attention Deficit Hyperactivity Disorder67: string (nullable = true)\n",
      " |-- Personality Disorder (Borderline, Antisocial, Paranoid, etc)68: string (nullable = true)\n",
      " |-- Obsessive-Compulsive Disorder69: string (nullable = true)\n",
      " |-- Post-traumatic Stress Disorder70: string (nullable = true)\n",
      " |-- Stress Response Syndromes71: string (nullable = true)\n",
      " |-- Dissociative Disorder72: string (nullable = true)\n",
      " |-- Substance Use Disorder73: string (nullable = true)\n",
      " |-- Addictive Disorder74: string (nullable = true)\n",
      " |-- Other75: string (nullable = true)\n",
      " |-- Anxiety Disorder (Generalized, Social, Phobia, etc)76: string (nullable = true)\n",
      " |-- Mood Disorder (Depression, Bipolar Disorder, etc)77: string (nullable = true)\n",
      " |-- Psychotic Disorder (Schizophrenia, Schizoaffective, etc)78: string (nullable = true)\n",
      " |-- Eating Disorder (Anorexia, Bulimia, etc)79: string (nullable = true)\n",
      " |-- Attention Deficit Hyperactivity Disorder80: string (nullable = true)\n",
      " |-- Personality Disorder (Borderline, Antisocial, Paranoid, etc)81: string (nullable = true)\n",
      " |-- Obsessive-Compulsive Disorder82: string (nullable = true)\n",
      " |-- Post-traumatic Stress Disorder83: string (nullable = true)\n",
      " |-- Stress Response Syndromes84: string (nullable = true)\n",
      " |-- Dissociative Disorder85: string (nullable = true)\n",
      " |-- Substance Use Disorder86: string (nullable = true)\n",
      " |-- Addictive Disorder87: string (nullable = true)\n",
      " |-- Other88: string (nullable = true)\n",
      " |-- Have you had a mental health disorder in the past?: string (nullable = true)\n",
      " |-- Have you ever sought treatment for a mental health disorder from a mental health professional?: string (nullable = true)\n",
      " |-- Do you have a family history of mental illness?: string (nullable = true)\n",
      " |-- If you have a mental health disorder, how often do you feel that it interferes with your work <strong>when being treated effectively?</strong>: string (nullable = true)\n",
      " |-- If you have a mental health disorder, how often do you feel that it interferes with your work <strong>when <em>NOT</em> being treated effectively (i.e., when you are experiencing symptoms)?</strong>: string (nullable = true)\n",
      " |-- Have your observations of how another individual who discussed a mental health issue made you less likely to reveal a mental health issue yourself in your current workplace?: string (nullable = true)\n",
      " |-- How willing would you be to share with friends and family that you have a mental illness?: string (nullable = true)\n",
      " |-- Would you be willing to bring up a physical health issue with a potential employer in an interview?: string (nullable = true)\n",
      " |-- Why or why not?97: string (nullable = true)\n",
      " |-- Would you bring up your mental health with a potential employer in an interview?: string (nullable = true)\n",
      " |-- Why or why not?99: string (nullable = true)\n",
      " |-- Are you openly identified at work as a person with a mental health issue?: string (nullable = true)\n",
      " |-- Has being identified as a person with a mental health issue affected your career?: string (nullable = true)\n",
      " |-- How has it affected your career?: string (nullable = true)\n",
      " |-- If they knew you suffered from a mental health disorder, how do you think that team members/co-workers would react?: string (nullable = true)\n",
      " |-- <strong>Have you observed or experienced an unsupportive or badly handled response to a mental health issue in your current or previous workplace?</strong>: string (nullable = true)\n",
      " |-- Describe the circumstances of the badly handled or unsupportive response.: string (nullable = true)\n",
      " |-- <strong>Have you observed or experienced supportive or well handled response to a mental health issue in your current or previous workplace?</strong>: string (nullable = true)\n",
      " |-- Describe the circumstances of the supportive or well handled response.: string (nullable = true)\n",
      " |-- Overall, how well do you think the tech industry supports employees with mental health issues?: string (nullable = true)\n",
      " |-- Briefly describe what you think the industry as a whole and/or employers could do to improve mental health support for employees.: string (nullable = true)\n",
      " |-- If there is anything else you would like to tell us that has not been covered by the survey questions, please use this space to do so.: string (nullable = true)\n",
      " |-- Would you be willing to talk to one of us more extensively about your experiences with mental health issues in the tech industry? (Note that all interview responses would be used <em>anonymously</em> and only with your permission.): string (nullable = true)\n",
      " |-- What is your age?: string (nullable = true)\n",
      " |-- What is your gender?: string (nullable = true)\n",
      " |-- What country do you <strong>live</strong> in?: string (nullable = true)\n",
      " |-- What US state or territory do you <strong>live</strong> in?: string (nullable = true)\n",
      " |-- What is your race?: string (nullable = true)\n",
      " |-- Other117: string (nullable = true)\n",
      " |-- What country do you <strong>work</strong> in?: string (nullable = true)\n",
      " |-- What US state or territory do you <strong>work</strong> in?: string (nullable = true)\n",
      " |-- Start Date (UTC): string (nullable = true)\n",
      " |-- Submit Date (UTC): string (nullable = true)\n",
      " |-- Network ID: string (nullable = true)\n",
      "\n"
     ]
    }
   ],
   "source": [
    "data_2017=data_2017.drop('#')\n",
    "data_2017.printSchema()"
   ]
  },
  {
   "cell_type": "code",
   "execution_count": 6,
   "metadata": {},
   "outputs": [],
   "source": [
    "# change question name in 2019 to match with the same question in other surveys\n",
    "data_2019 = data_2019.withColumnRenamed(\"Have you ever been *diagnosed* with a mental health disorder?\",\"Have you ever been diagnosed with a mental health disorder?\").withColumnRenamed(\"Do you *currently* have a mental health disorder?\",\"Do you currently have a mental health disorder?\")"
   ]
  },
  {
   "cell_type": "code",
   "execution_count": 7,
   "metadata": {},
   "outputs": [
    {
     "name": "stdout",
     "output_type": "stream",
     "text": [
      "root\n",
      " |-- Are you self-employed?: string (nullable = true)\n",
      " |-- How many employees does your company or organization have?: string (nullable = true)\n",
      " |-- Is your employer primarily a tech company/organization?: string (nullable = true)\n",
      " |-- Is your primary role within your company related to tech/IT?: string (nullable = true)\n",
      " |-- Does your employer provide mental health benefits as part of healthcare coverage?: string (nullable = true)\n",
      " |-- Do you know the options for mental health care available under your employer-provided coverage?: string (nullable = true)\n",
      " |-- Has your employer ever formally discussed mental health (for example, as part of a wellness campaign or other official communication)?: string (nullable = true)\n",
      " |-- Does your employer offer resources to learn more about mental health concerns and options for seeking help?: string (nullable = true)\n",
      " |-- Is your anonymity protected if you choose to take advantage of mental health or substance abuse treatment resources provided by your employer?: string (nullable = true)\n",
      " |-- If a mental health issue prompted you to request a medical leave from work, asking for that leave would be:: string (nullable = true)\n",
      " |-- Do you think that discussing a mental health disorder with your employer would have negative consequences?: string (nullable = true)\n",
      " |-- Do you think that discussing a physical health issue with your employer would have negative consequences?: string (nullable = true)\n",
      " |-- Would you feel comfortable discussing a mental health disorder with your coworkers?: string (nullable = true)\n",
      " |-- Would you feel comfortable discussing a mental health disorder with your direct supervisor(s)?: string (nullable = true)\n",
      " |-- Do you feel that your employer takes mental health as seriously as physical health?: string (nullable = true)\n",
      " |-- Have you heard of or observed negative consequences for co-workers who have been open about mental health issues in your workplace?: string (nullable = true)\n",
      " |-- Do you have medical coverage (private insurance or state-provided) which includes treatment of  mental health issues?: string (nullable = true)\n",
      " |-- Do you know local or online resources to seek help for a mental health disorder?: string (nullable = true)\n",
      " |-- If you have been diagnosed or treated for a mental health disorder, do you ever reveal this to clients or business contacts?: string (nullable = true)\n",
      " |-- If you have revealed a mental health issue to a client or business contact, do you believe this has impacted you negatively?: string (nullable = true)\n",
      " |-- If you have been diagnosed or treated for a mental health disorder, do you ever reveal this to coworkers or employees?: string (nullable = true)\n",
      " |-- If you have revealed a mental health issue to a coworker or employee, do you believe this has impacted you negatively?: string (nullable = true)\n",
      " |-- Do you believe your productivity is ever affected by a mental health issue?: string (nullable = true)\n",
      " |-- If yes, what percentage of your work time (time performing primary or secondary job functions) is affected by a mental health issue?: string (nullable = true)\n",
      " |-- Do you have previous employers?: string (nullable = true)\n",
      " |-- Have your previous employers provided mental health benefits?: string (nullable = true)\n",
      " |-- Were you aware of the options for mental health care provided by your previous employers?: string (nullable = true)\n",
      " |-- Did your previous employers ever formally discuss mental health (as part of a wellness campaign or other official communication)?: string (nullable = true)\n",
      " |-- Did your previous employers provide resources to learn more about mental health issues and how to seek help?: string (nullable = true)\n",
      " |-- Was your anonymity protected if you chose to take advantage of mental health or substance abuse treatment resources with previous employers?: string (nullable = true)\n",
      " |-- Do you think that discussing a mental health disorder with previous employers would have negative consequences?: string (nullable = true)\n",
      " |-- Do you think that discussing a physical health issue with previous employers would have negative consequences?: string (nullable = true)\n",
      " |-- Would you have been willing to discuss a mental health issue with your previous co-workers?: string (nullable = true)\n",
      " |-- Would you have been willing to discuss a mental health issue with your direct supervisor(s)?: string (nullable = true)\n",
      " |-- Did you feel that your previous employers took mental health as seriously as physical health?: string (nullable = true)\n",
      " |-- Did you hear of or observe negative consequences for co-workers with mental health issues in your previous workplaces?: string (nullable = true)\n",
      " |-- Would you be willing to bring up a physical health issue with a potential employer in an interview?: string (nullable = true)\n",
      " |-- Why or why not?37: string (nullable = true)\n",
      " |-- Would you bring up a mental health issue with a potential employer in an interview?: string (nullable = true)\n",
      " |-- Why or why not?39: string (nullable = true)\n",
      " |-- Do you feel that being identified as a person with a mental health issue would hurt your career?: string (nullable = true)\n",
      " |-- Do you think that team members/co-workers would view you more negatively if they knew you suffered from a mental health issue?: string (nullable = true)\n",
      " |-- How willing would you be to share with friends and family that you have a mental illness?: string (nullable = true)\n",
      " |-- Have you observed or experienced an unsupportive or badly handled response to a mental health issue in your current or previous workplace?: string (nullable = true)\n",
      " |-- Have your observations of how another individual who discussed a mental health disorder made you less likely to reveal a mental health issue yourself in your current workplace?: string (nullable = true)\n",
      " |-- Do you have a family history of mental illness?: string (nullable = true)\n",
      " |-- Have you had a mental health disorder in the past?: string (nullable = true)\n",
      " |-- Do you currently have a mental health disorder?: string (nullable = true)\n",
      " |-- If yes, what condition(s) have you been diagnosed with?: string (nullable = true)\n",
      " |-- If maybe, what condition(s) do you believe you have?: string (nullable = true)\n",
      " |-- Have you been diagnosed with a mental health condition by a medical professional?: string (nullable = true)\n",
      " |-- If so, what condition(s) were you diagnosed with?: string (nullable = true)\n",
      " |-- Have you ever sought treatment for a mental health issue from a mental health professional?: string (nullable = true)\n",
      " |-- If you have a mental health issue, do you feel that it interferes with your work when being treated effectively?: string (nullable = true)\n",
      " |-- If you have a mental health issue, do you feel that it interferes with your work when NOT being treated effectively?: string (nullable = true)\n",
      " |-- What is your age?: string (nullable = true)\n",
      " |-- What is your gender?: string (nullable = true)\n",
      " |-- What country do you live in?: string (nullable = true)\n",
      " |-- What US state or territory do you live in?: string (nullable = true)\n",
      " |-- What country do you work in?: string (nullable = true)\n",
      " |-- What US state or territory do you work in?: string (nullable = true)\n",
      " |-- Which of the following best describes your work position?: string (nullable = true)\n",
      " |-- Do you work remotely?: string (nullable = true)\n",
      "\n"
     ]
    }
   ],
   "source": [
    "data_2016.printSchema()"
   ]
  },
  {
   "cell_type": "code",
   "execution_count": 8,
   "metadata": {},
   "outputs": [],
   "source": [
    "# change question name in 2016 to match with the same question in other surveys\n",
    "data_2016 = data_2016.withColumnRenamed(\"Would you feel comfortable discussing a mental health disorder with your direct supervisor(s)?\",\"Would you have been willing to discuss your mental health with your direct supervisor(s)?\")\\\n",
    ".withColumnRenamed(\"Do you know the options for mental health care available under your employer-provided coverage?\",\"Do you know the options for mental health care available under your employer-provided health coverage?\")\\\n",
    ".withColumnRenamed(\"Did your previous employers provide resources to learn more about mental health issues and how to seek help?\",\"Did your previous employers provide resources to learn more about mental health disorders and how to seek help?\")\\\n",
    ".withColumnRenamed(\"Do you have medical coverage (private insurance or state-provided) which includes treatment of  mental health issues?\",\"Do you have medical coverage (private insurance or state-provided) that includes treatment of mental health disorders?\")\\\n",
    ".withColumnRenamed(\"Have you ever sought treatment for a mental health issue from a mental health professional?\",\"Have you ever sought treatment for a mental health disorder from a mental health professional?\")\\\n",
    ".withColumnRenamed(\"Would you feel comfortable discussing a mental health disorder with your direct supervisor(s)?\",\"Would you feel comfortable discussing a mental health issue with your direct supervisor(s)?\")\\\n",
    ".withColumnRenamed(\"Have you been diagnosed with a mental health condition by a medical professional?\",\"Have you ever been diagnosed with a mental health disorder?\")\\\n",
    ".withColumnRenamed(\"Do you feel that being identified as a person with a mental health issue would hurt your career?\",\"Has being identified as a person with a mental health issue affected your career?\")\\\n",
    ".withColumnRenamed(\"Is your anonymity protected if you choose to take advantage of mental health or substance abuse treatment resources provided by your employer?\",\"Is your anonymity protected if you choose to take advantage of mental health or substance abuse treatment resources provided by your employer?\")\\\n",
    "\n"
   ]
  },
  {
   "cell_type": "code",
   "execution_count": 9,
   "metadata": {},
   "outputs": [],
   "source": [
    "# find out common questions in all surveys\n",
    "common_set = list(set(data_2019.columns).intersection(set(data_2018.columns))\\\n",
    "     .intersection(set(data_2017.columns)).intersection(set(data_2016.columns)))"
   ]
  },
  {
   "cell_type": "code",
   "execution_count": 10,
   "metadata": {},
   "outputs": [],
   "source": [
    "data_2019 = data_2019.select(*common_set)\n",
    "data_2018 = data_2018.select(*common_set)\n",
    "data_2017 = data_2017.select(*common_set)\n",
    "data_2016 = data_2016.select(*common_set)"
   ]
  },
  {
   "cell_type": "code",
   "execution_count": 11,
   "metadata": {},
   "outputs": [],
   "source": [
    "data = data_2019.union(data_2018).union(data_2017).union(data_2016)"
   ]
  },
  {
   "cell_type": "code",
   "execution_count": 13,
   "metadata": {},
   "outputs": [],
   "source": [
    "# write a function cast the column to integer\n",
    "def is_digit(value):\n",
    "    if value:\n",
    "        return value.isdigit()\n",
    "    else:\n",
    "        return False\n",
    "\n",
    "is_digit_udf = udf(is_digit, BooleanType())"
   ]
  },
  {
   "cell_type": "code",
   "execution_count": 14,
   "metadata": {},
   "outputs": [],
   "source": [
    "# group the nulls and unreasonable responses to the 'Other' category\n",
    "data = data.withColumn('Have you had a mental health disorder in the past?',f.when(~data['Have you had a mental health disorder in the past?'].isin('Possibly', 'No', 'Yes', 'Maybe'),'Other').otherwise(data['Have you had a mental health disorder in the past?']))\n",
    "data = data.withColumn('Is your employer primarily a tech company/organization?',f.when(~data['Is your employer primarily a tech company/organization?'].isin('1', '0','TRUE','FALSE'),'Other').otherwise(data['Is your employer primarily a tech company/organization?']))\n",
    "data = data.withColumn('If yes, what percentage of your work time (time performing primary or secondary job functions) is affected by a mental health issue?',f.when(~data['If yes, what percentage of your work time (time performing primary or secondary job functions) is affected by a mental health issue?'].isin('1-25%', '76-100%', '26-50%','51-75%'),'Other').otherwise(data['If yes, what percentage of your work time (time performing primary or secondary job functions) is affected by a mental health issue?']))\n",
    "data = data.withColumn('Has your employer ever formally discussed mental health (for example, as part of a wellness campaign or other official communication)?',f.when(~data['Has your employer ever formally discussed mental health (for example, as part of a wellness campaign or other official communication)?'].isin('Yes', 'No'),'Other').otherwise(data['Has your employer ever formally discussed mental health (for example, as part of a wellness campaign or other official communication)?']))\n",
    "data = data.withColumn('Would you be willing to bring up a physical health issue with a potential employer in an interview?',f.when(~data['Would you be willing to bring up a physical health issue with a potential employer in an interview?'].isin('Yes', 'No', 'Maybe'),'Other').otherwise(data['Would you be willing to bring up a physical health issue with a potential employer in an interview?']))\n",
    "data = data.withColumn('Is your anonymity protected if you choose to take advantage of mental health or substance abuse treatment resources provided by your employer?',f.when(~data['Is your anonymity protected if you choose to take advantage of mental health or substance abuse treatment resources provided by your employer?'].isin(\"I don't know\", 'Yes','No'),'Other').otherwise(data['Is your anonymity protected if you choose to take advantage of mental health or substance abuse treatment resources provided by your employer?']))\n",
    "data = data.withColumn('What is your gender?',f.when(~data['What is your gender?'].isin('Male','male','Female','female','M','m','F','f','Male','Female','Woman'),'Other').otherwise(data['What is your gender?']))\n",
    "data = data.withColumn('Did your previous employers provide resources to learn more about mental health disorders and how to seek help?',f.when(~data['Did your previous employers provide resources to learn more about mental health disorders and how to seek help?'].isin('Yes, they all did', 'Some did', 'None did'),'Other').otherwise(data['Did your previous employers provide resources to learn more about mental health disorders and how to seek help?']))\n",
    "data = data.withColumn('Do you have a family history of mental illness?',f.when(~data['Do you have a family history of mental illness?'].isin('Yes','No',\"I don't know\"),'Other').otherwise(data['Do you have a family history of mental illness?']))\n",
    "data = data.withColumn('Do you believe your productivity is ever affected by a mental health issue?',f.when(~data['Do you believe your productivity is ever affected by a mental health issue?'].isin('Yes','Unsure','Not applicable to me'),'Other').otherwise(data['Do you believe your productivity is ever affected by a mental health issue?']))\n",
    "data = data.withColumn('Would you have been willing to discuss your mental health with your direct supervisor(s)?',f.when(~data['Would you have been willing to discuss your mental health with your direct supervisor(s)?'].isin('Some of my previous supervisors','No, none of my previous supervisors','Yes','Maybe','No',\"I don't know\",'Yes, all of my previous supervisors'),'Other').otherwise(data['Would you have been willing to discuss your mental health with your direct supervisor(s)?']))\n",
    "data = data.withColumn('How many employees does your company or organization have?',f.when(~data['How many employees does your company or organization have?'].isin('26-100', '100-500','6-25', 'More than 1000','500-1000','1-5'),'Other').otherwise(data['How many employees does your company or organization have?']))\n",
    "data = data.withColumn('Have you ever sought treatment for a mental health disorder from a mental health professional?',f.when(~data['Have you ever sought treatment for a mental health disorder from a mental health professional?'].isin('FALSE', 'TRUE','No', 'Yes', '1', '0'),'Other').otherwise(data['Have you ever sought treatment for a mental health disorder from a mental health professional?']))\n",
    "data = data.withColumn('Do you know the options for mental health care available under your employer-provided health coverage?',f.when(~data['Do you know the options for mental health care available under your employer-provided health coverage?'].isin('No','Yes','I am not sure'),'Other').otherwise(data['Do you know the options for mental health care available under your employer-provided health coverage?']))\n",
    "data = data.withColumn('Have you ever been diagnosed with a mental health disorder?',f.when(~data['Have you ever been diagnosed with a mental health disorder?'].isin('No','Yes'),'Other').otherwise(data['Have you ever been diagnosed with a mental health disorder?']))\n",
    "data = data.withColumn('Did your previous employers ever formally discuss mental health (as part of a wellness campaign or other official communication)?',f.when(~data['Did your previous employers ever formally discuss mental health (as part of a wellness campaign or other official communication)?'].isin('None did','Some did',\"I don't know','Yes, they all did\"),'Other').otherwise(data['Did your previous employers ever formally discuss mental health (as part of a wellness campaign or other official communication)?']))\n",
    "data = data.withColumn('Have you had a mental health disorder in the past?',f.when(~data['Have you had a mental health disorder in the past?'].isin('Yes',\"No\",'Possibly','Maybe',\"Don't Know\"),'Other').otherwise(data['Have you had a mental health disorder in the past?']))\n",
    "data = data.withColumn('Has being identified as a person with a mental health issue affected your career?',f.when(~data['Has being identified as a person with a mental health issue affected your career?'].isin('Maybe','Yes, I think it would',\"No, I don't think it would\",'0','Yes, it has'),'Other').otherwise(data['Has being identified as a person with a mental health issue affected your career?']))\n",
    "data = data.withColumn('Is your primary role within your company related to tech/IT?',f.when(~data['Is your primary role within your company related to tech/IT?'].isin('TRUE','1','0','FALSE'),'Other').otherwise(data['Is your primary role within your company related to tech/IT?']))\n",
    "data = data.withColumn('How willing would you be to share with friends and family that you have a mental illness?',f.when(~data['How willing would you be to share with friends and family that you have a mental illness?'].isin('Somewhat open','Very open','Somewhat not open','Neutral','Not applicable to me (I do not have a mental illness)','Not open at all'),'Other').otherwise(data['How willing would you be to share with friends and family that you have a mental illness?']))\n",
    "data = data.withColumn('Was your anonymity protected if you chose to take advantage of mental health or substance abuse treatment resources with previous employers?',f.when(~data['Was your anonymity protected if you chose to take advantage of mental health or substance abuse treatment resources with previous employers?'].isin(\"I don't know\",'Yes, always','Sometimes','No'),'Other').otherwise(data['Was your anonymity protected if you chose to take advantage of mental health or substance abuse treatment resources with previous employers?']))\n"
   ]
  },
  {
   "cell_type": "code",
   "execution_count": 15,
   "metadata": {},
   "outputs": [],
   "source": [
    "data = data.withColumn('What is your age?',f.when(~is_digit_udf(data['What is your age?']),'Other').otherwise(data['What is your age?']))"
   ]
  },
  {
   "cell_type": "code",
   "execution_count": 16,
   "metadata": {},
   "outputs": [],
   "source": [
    "data = data.withColumn('Do you currently have a mental health disorder?',f.when(~data['Do you currently have a mental health disorder?'].isin('Possibly', 'No', 'Yes', 'Maybe','No'),'Other').otherwise(data['Do you currently have a mental health disorder?']))"
   ]
  },
  {
   "cell_type": "code",
   "execution_count": 17,
   "metadata": {},
   "outputs": [],
   "source": [
    "# group the similar answers together\n",
    "data = data.withColumn('Have you had a mental health disorder in the past?',f.when(data['Have you had a mental health disorder in the past?'].isin('Possibly'),'Maybe').otherwise(data['Have you had a mental health disorder in the past?']))"
   ]
  },
  {
   "cell_type": "code",
   "execution_count": 18,
   "metadata": {},
   "outputs": [],
   "source": [
    "data = data.withColumn('What is your gender?',f.when(data['What is your gender?'].isin('female','Female','F','f','Woman'),'Female').otherwise(data['What is your gender?']))\n",
    "data = data.withColumn('What is your gender?',f.when(data['What is your gender?'].isin('Male','male','m','M'),'Male').otherwise(data['What is your gender?']))"
   ]
  },
  {
   "cell_type": "code",
   "execution_count": 19,
   "metadata": {},
   "outputs": [],
   "source": [
    "data = data.withColumn('Do you currently have a mental health disorder?',f.when(data['Do you currently have a mental health disorder?'].isin('Possibly'),'Maybe').otherwise(data['Do you currently have a mental health disorder?']))"
   ]
  },
  {
   "cell_type": "code",
   "execution_count": 20,
   "metadata": {},
   "outputs": [],
   "source": [
    "data = data.withColumn('Has being identified as a person with a mental health issue affected your career?',f.when(data['Has being identified as a person with a mental health issue affected your career?'].isin('0'),\"No, I don't think it would\").otherwise(data['Has being identified as a person with a mental health issue affected your career?']))"
   ]
  },
  {
   "cell_type": "code",
   "execution_count": 21,
   "metadata": {},
   "outputs": [],
   "source": [
    "data = data.withColumn('Have you ever sought treatment for a mental health disorder from a mental health professional?',f.when(data['Have you ever sought treatment for a mental health disorder from a mental health professional?'].isin('FALSE','0'), 'No').otherwise(data['Have you ever sought treatment for a mental health disorder from a mental health professional?']))\n",
    "data = data.withColumn('Have you ever sought treatment for a mental health disorder from a mental health professional?',f.when(data['Have you ever sought treatment for a mental health disorder from a mental health professional?'].isin('TRUE','1'), 'Yes').otherwise(data['Have you ever sought treatment for a mental health disorder from a mental health professional?']))"
   ]
  },
  {
   "cell_type": "code",
   "execution_count": 22,
   "metadata": {},
   "outputs": [],
   "source": [
    "data = data.withColumn('Would you have been willing to discuss your mental health with your direct supervisor(s)?',f.when(data['Would you have been willing to discuss your mental health with your direct supervisor(s)?'].isin('No, none of my previous supervisors'), 'No').otherwise(data['Would you have been willing to discuss your mental health with your direct supervisor(s)?']))\n",
    "data = data.withColumn('Would you have been willing to discuss your mental health with your direct supervisor(s)?',f.when(data['Would you have been willing to discuss your mental health with your direct supervisor(s)?'].isin('Yes, all of my previous supervisors'), 'Yes').otherwise(data['Would you have been willing to discuss your mental health with your direct supervisor(s)?']))\n",
    "data = data.withColumn('Would you have been willing to discuss your mental health with your direct supervisor(s)?',f.when(data['Would you have been willing to discuss your mental health with your direct supervisor(s)?'].isin('Some of my previous supervisors'), 'Maybe').otherwise(data['Would you have been willing to discuss your mental health with your direct supervisor(s)?']))"
   ]
  },
  {
   "cell_type": "code",
   "execution_count": 23,
   "metadata": {},
   "outputs": [],
   "source": [
    "data = data.withColumn('Is your employer primarily a tech company/organization?',f.when(data['Is your employer primarily a tech company/organization?'].isin('1'), 'TRUE').otherwise(data['Is your employer primarily a tech company/organization?']))\n",
    "data = data.withColumn('Is your employer primarily a tech company/organization?',f.when(data['Is your employer primarily a tech company/organization?'].isin('0'), 'FALSE').otherwise(data['Is your employer primarily a tech company/organization?']))\n"
   ]
  },
  {
   "cell_type": "code",
   "execution_count": 24,
   "metadata": {},
   "outputs": [],
   "source": [
    "data = data.withColumn('Is your primary role within your company related to tech/IT?',f.when(data['Is your primary role within your company related to tech/IT?'].isin('1'), 'TRUE').otherwise(data['Is your primary role within your company related to tech/IT?']))\n",
    "data = data.withColumn('Is your primary role within your company related to tech/IT?',f.when(data['Is your primary role within your company related to tech/IT?'].isin('0'), 'FALSE').otherwise(data['Is your primary role within your company related to tech/IT?']))\n"
   ]
  },
  {
   "cell_type": "code",
   "execution_count": 25,
   "metadata": {},
   "outputs": [],
   "source": [
    "new_col = ['Q'+str(i) for i in range(1,23)]"
   ]
  },
  {
   "cell_type": "code",
   "execution_count": 26,
   "metadata": {},
   "outputs": [],
   "source": [
    "data = data.toDF(*new_col)"
   ]
  },
  {
   "cell_type": "code",
   "execution_count": 27,
   "metadata": {},
   "outputs": [],
   "source": [
    "new_data = data.filter(data['Q19'] != 'Other')"
   ]
  },
  {
   "cell_type": "code",
   "execution_count": 28,
   "metadata": {},
   "outputs": [
    {
     "data": {
      "text/plain": [
       "DataFrame[Q1: string, Q2: string, Q3: string, Q4: string, Q5: string, Q6: string, Q7: string, Q8: string, Q9: string, Q10: string, Q11: string, Q12: string, Q13: string, Q14: string, Q15: string, Q16: string, Q17: string, Q18: string, Q19: int, Q20: string, Q21: string, Q22: string]"
      ]
     },
     "execution_count": 28,
     "metadata": {},
     "output_type": "execute_result"
    }
   ],
   "source": [
    "new_data.withColumn(\"Q19\",new_data['Q19'].cast(IntegerType()))"
   ]
  },
  {
   "cell_type": "code",
   "execution_count": 29,
   "metadata": {},
   "outputs": [],
   "source": [
    "new_data = new_data.withColumn('Q19',f.when(data['Q19'].isin(0), 34).otherwise(data['Q19']))"
   ]
  },
  {
   "cell_type": "code",
   "execution_count": 30,
   "metadata": {},
   "outputs": [],
   "source": [
    "def save(clf, name):\n",
    "    pickle_out = open(name,\"wb\")\n",
    "    pickle.dump(clf, pickle_out)\n",
    "    pickle_out.close()\n",
    "    print ('Model ',name,' saved')\n",
    "#save(new_data, 'new_data.pkl')"
   ]
  }
 ],
 "metadata": {
  "kernelspec": {
   "display_name": "Python [conda env:metis] *",
   "language": "python",
   "name": "conda-env-metis-py"
  },
  "language_info": {
   "codemirror_mode": {
    "name": "ipython",
    "version": 3
   },
   "file_extension": ".py",
   "mimetype": "text/x-python",
   "name": "python",
   "nbconvert_exporter": "python",
   "pygments_lexer": "ipython3",
   "version": "3.7.6"
  }
 },
 "nbformat": 4,
 "nbformat_minor": 4
}
