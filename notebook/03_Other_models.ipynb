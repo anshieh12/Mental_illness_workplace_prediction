{
 "cells": [
  {
   "cell_type": "markdown",
   "metadata": {},
   "source": [
    "# Test out other models"
   ]
  },
  {
   "cell_type": "code",
   "execution_count": 1,
   "metadata": {},
   "outputs": [
    {
     "name": "stderr",
     "output_type": "stream",
     "text": [
      "/Users/shiehan/anaconda3/envs/metis/lib/python3.7/site-packages/lightgbm/__init__.py:48: UserWarning: Starting from version 2.2.1, the library file in distribution wheels for macOS is built by the Apple Clang (Xcode_8.3.3) compiler.\n",
      "This means that in case of installing LightGBM from PyPI via the ``pip install lightgbm`` command, you don't need to install the gcc compiler anymore.\n",
      "Instead of that, you need to install the OpenMP library, which is required for running LightGBM on the system with the Apple Clang compiler.\n",
      "You can install the OpenMP library by the following command: ``brew install libomp``.\n",
      "  \"You can install the OpenMP library by the following command: ``brew install libomp``.\", UserWarning)\n"
     ]
    }
   ],
   "source": [
    "import pandas as pd\n",
    "import pickle\n",
    "from sklearn.model_selection import train_test_split\n",
    "from sklearn.metrics import balanced_accuracy_score, confusion_matrix, f1_score, SCORERS\n",
    "from sklearn.ensemble import RandomForestClassifier, AdaBoostClassifier\n",
    "from sklearn import svm, tree\n",
    "import xgboost\n",
    "from sklearn.preprocessing import StandardScaler\n",
    "import lightgbm as lgb\n",
    "from sklearn.model_selection import RandomizedSearchCV\n",
    "from sklearn.metrics import confusion_matrix\n",
    "import seaborn as sns\n",
    "import matplotlib.pyplot as plt\n",
    "from sklearn.datasets import make_classification\n",
    "import numpy as np"
   ]
  },
  {
   "cell_type": "code",
   "execution_count": 2,
   "metadata": {},
   "outputs": [],
   "source": [
    "def save(clf, name):\n",
    "    pickle_out = open(name,\"wb\")\n",
    "    pickle.dump(clf, pickle_out)\n",
    "    pickle_out.close()\n",
    "    print ('Model ',name,' saved')\n",
    "\n",
    "\n",
    "def load(clf_file):\n",
    "    pickle_in = open(clf_file,\"rb\")\n",
    "    clf = pickle.load(pickle_in)\n",
    "    return clf"
   ]
  },
  {
   "cell_type": "code",
   "execution_count": 3,
   "metadata": {},
   "outputs": [],
   "source": [
    "data = load('/Users/shiehan/Desktop/kaplan stuff/project5/data1.pkl')"
   ]
  },
  {
   "cell_type": "code",
   "execution_count": 4,
   "metadata": {},
   "outputs": [],
   "source": [
    "X = data.drop(['Q6'], axis = 1)\n",
    "y = data['Q6']\n",
    "seed = 123\n",
    "X_train_val, X_test, y_train_val, y_test = train_test_split(X, y, test_size=0.2, random_state=seed)"
   ]
  },
  {
   "cell_type": "code",
   "execution_count": 5,
   "metadata": {},
   "outputs": [],
   "source": [
    "scaler = StandardScaler()\n",
    "xtrain_val_scaled = scaler.fit_transform(X_train_val)\n",
    "xtest_scaled = scaler.transform(X_test)"
   ]
  },
  {
   "cell_type": "code",
   "execution_count": 6,
   "metadata": {},
   "outputs": [],
   "source": [
    "# these are the models I am testing out\n",
    "classifiers = []\n",
    "model1 = xgboost.XGBClassifier()\n",
    "classifiers.append(model1)\n",
    "model2 = svm.SVC()\n",
    "classifiers.append(model2)\n",
    "model3 = AdaBoostClassifier()\n",
    "classifiers.append(model3)\n",
    "model4 = RandomForestClassifier()\n",
    "classifiers.append(model4)\n",
    "model5 = lgb.LGBMClassifier()\n",
    "classifiers.append(model5)"
   ]
  },
  {
   "cell_type": "code",
   "execution_count": 7,
   "metadata": {},
   "outputs": [
    {
     "name": "stdout",
     "output_type": "stream",
     "text": [
      "F1_micro of XGBClassifier(base_score=0.5, booster='gbtree', colsample_bylevel=1,\n",
      "              colsample_bynode=1, colsample_bytree=1, gamma=0,\n",
      "              learning_rate=0.1, max_delta_step=0, max_depth=3,\n",
      "              min_child_weight=1, missing=None, n_estimators=100, n_jobs=1,\n",
      "              nthread=None, objective='multi:softprob', random_state=0,\n",
      "              reg_alpha=0, reg_lambda=1, scale_pos_weight=1, seed=None,\n",
      "              silent=None, subsample=1, verbosity=1) is 0.7981981981981981\n",
      "F1_micro of SVC(C=1.0, break_ties=False, cache_size=200, class_weight=None, coef0=0.0,\n",
      "    decision_function_shape='ovr', degree=3, gamma='scale', kernel='rbf',\n",
      "    max_iter=-1, probability=False, random_state=None, shrinking=True,\n",
      "    tol=0.001, verbose=False) is 0.8000000000000002\n",
      "F1_micro of AdaBoostClassifier(algorithm='SAMME.R', base_estimator=None, learning_rate=1.0,\n",
      "                   n_estimators=50, random_state=None) is 0.6720720720720721\n",
      "F1_micro of RandomForestClassifier(bootstrap=True, ccp_alpha=0.0, class_weight=None,\n",
      "                       criterion='gini', max_depth=None, max_features='auto',\n",
      "                       max_leaf_nodes=None, max_samples=None,\n",
      "                       min_impurity_decrease=0.0, min_impurity_split=None,\n",
      "                       min_samples_leaf=1, min_samples_split=2,\n",
      "                       min_weight_fraction_leaf=0.0, n_estimators=100,\n",
      "                       n_jobs=None, oob_score=False, random_state=None,\n",
      "                       verbose=0, warm_start=False) is 0.7531531531531532\n",
      "F1_micro of LGBMClassifier(boosting_type='gbdt', class_weight=None, colsample_bytree=1.0,\n",
      "               importance_type='split', learning_rate=0.1, max_depth=-1,\n",
      "               min_child_samples=20, min_child_weight=0.001, min_split_gain=0.0,\n",
      "               n_estimators=100, n_jobs=-1, num_leaves=31, objective=None,\n",
      "               random_state=None, reg_alpha=0.0, reg_lambda=0.0, silent=True,\n",
      "               subsample=1.0, subsample_for_bin=200000, subsample_freq=0) is 0.7783783783783784\n"
     ]
    }
   ],
   "source": [
    "for model in classifiers:\n",
    "    model.fit(xtrain_val_scaled, y_train_val)\n",
    "    y_pred= model.predict(xtest_scaled)\n",
    "    f1 = f1_score(y_test, y_pred, average= 'micro')\n",
    "    print(\"F1_micro of %s is %s\"%(model, f1))\n",
    "\n",
    "    cm = confusion_matrix(y_test, y_pred)\n",
    "    #print(\"Confusion Matrix of %s is %s\"%(model, cm))"
   ]
  },
  {
   "cell_type": "code",
   "execution_count": 8,
   "metadata": {},
   "outputs": [],
   "source": [
    "# Parameters tuning with SVC!\n",
    "nfolds = 5\n",
    "def svc_param_selection(X, y, nfolds):\n",
    "    Cs = [0.001, 0.01, 0.1, 1, 10]\n",
    "    gammas = [0.001, 0.01, 0.1, 1]\n",
    "    param_grid = {'C': Cs, 'gamma' : gammas}\n",
    "    random_search = RandomizedSearchCV(svm.SVC(kernel='rbf'), param_grid, cv=nfolds, n_iter=100,scoring='f1_micro', verbose=2,random_state = seed, n_jobs=-1)\n",
    "    random_search.fit(X, y)\n",
    "    random_search.best_params_\n",
    "    return random_search.best_params_"
   ]
  },
  {
   "cell_type": "code",
   "execution_count": 9,
   "metadata": {},
   "outputs": [
    {
     "name": "stdout",
     "output_type": "stream",
     "text": [
      "Fitting 5 folds for each of 20 candidates, totalling 100 fits\n"
     ]
    },
    {
     "name": "stderr",
     "output_type": "stream",
     "text": [
      "/Users/shiehan/anaconda3/envs/metis/lib/python3.7/site-packages/sklearn/model_selection/_search.py:281: UserWarning: The total space of parameters 20 is smaller than n_iter=100. Running 20 iterations. For exhaustive searches, use GridSearchCV.\n",
      "  % (grid_size, self.n_iter, grid_size), UserWarning)\n",
      "[Parallel(n_jobs=-1)]: Using backend LokyBackend with 4 concurrent workers.\n",
      "[Parallel(n_jobs=-1)]: Done  33 tasks      | elapsed:    4.8s\n"
     ]
    },
    {
     "name": "stdout",
     "output_type": "stream",
     "text": [
      "{'gamma': 0.01, 'C': 10}\n"
     ]
    },
    {
     "name": "stderr",
     "output_type": "stream",
     "text": [
      "[Parallel(n_jobs=-1)]: Done 100 out of 100 | elapsed:   10.1s finished\n"
     ]
    }
   ],
   "source": [
    "print(svc_param_selection(xtrain_val_scaled, y_train_val, nfolds))\n"
   ]
  },
  {
   "cell_type": "code",
   "execution_count": 10,
   "metadata": {},
   "outputs": [
    {
     "data": {
      "text/plain": [
       "{'fit_time': array([0.20645094, 0.13079095, 0.12880683, 0.1256299 , 0.12373185]),\n",
       " 'score_time': array([0.02130198, 0.01797795, 0.01774907, 0.01744294, 0.01790094]),\n",
       " 'test_score': array([0.79504505, 0.75675676, 0.74040632, 0.751693  , 0.76072235])}"
      ]
     },
     "execution_count": 10,
     "metadata": {},
     "output_type": "execute_result"
    }
   ],
   "source": [
    "# SVM cross val with the best param\n",
    "from sklearn.model_selection import cross_validate\n",
    "svm_model = svm.SVC(kernel='rbf',gamma = 0.01, C = 10)\n",
    "scores = cross_validate(svm_model, xtrain_val_scaled, y_train_val, cv=5, scoring='f1_micro')\n",
    "scores"
   ]
  },
  {
   "cell_type": "code",
   "execution_count": 11,
   "metadata": {},
   "outputs": [
    {
     "name": "stdout",
     "output_type": "stream",
     "text": [
      "f1_micro: 0.7609246944461392\n"
     ]
    }
   ],
   "source": [
    "print('f1_micro:',scores['test_score'].mean())\n"
   ]
  },
  {
   "cell_type": "code",
   "execution_count": 12,
   "metadata": {},
   "outputs": [
    {
     "name": "stdout",
     "output_type": "stream",
     "text": [
      "f1_micro: 0.7963963963963963\n"
     ]
    }
   ],
   "source": [
    "svm_model.fit(xtrain_val_scaled,y_train_val)\n",
    "svm_pred = svm_model.predict(xtest_scaled)\n",
    "print('f1_micro:',f1_score(y_test, svm_pred, average= 'micro'))\n"
   ]
  },
  {
   "cell_type": "code",
   "execution_count": 13,
   "metadata": {
    "scrolled": false
   },
   "outputs": [
    {
     "data": {
      "image/png": "[encoded data removed]",
      "text/plain": [
       "<Figure size 900x600 with 2 Axes>"
      ]
     },
     "metadata": {
      "needs_background": "light"
     },
     "output_type": "display_data"
    }
   ],
   "source": [
    "# print confusion matrix for SVC\n",
    "logit_confusion = confusion_matrix(y_test, svm_model.predict(xtest_scaled))\n",
    "plt.figure(dpi=150)\n",
    "sns.heatmap(logit_confusion, cmap=plt.cm.Blues, annot=True, square=True,\n",
    "           xticklabels=data['Q6'].unique(),\n",
    "           yticklabels=data['Q6'].unique())\n",
    "\n",
    "plt.xlabel('Predicted state')\n",
    "plt.ylabel('Actual state')\n",
    "plt.title('SVC confusion matrix');\n",
    "\n",
    "#plt.savefig(\"confusion_matrix_logit_data_IV\")"
   ]
  },
  {
   "cell_type": "code",
   "execution_count": 14,
   "metadata": {},
   "outputs": [],
   "source": [
    "# XGBClassifier param tuning!\n",
    "def XGB_param_selection(X, y, nfolds):\n",
    "    learning_rate = [0.05, 0.10, 0.15, 0.20, 0.25, 0.30 ] \n",
    "    max_depth = [3, 4, 5, 6, 8, 10, 12, 15]\n",
    "    min_child_weight = [1, 3, 5, 7]\n",
    "    gamma = [0.0, 0.1, 0.2 , 0.3, 0.4]\n",
    "    colsample_bytree = [0.3, 0.4, 0.5 , 0.7]\n",
    "    param_grid = {'learning_rate': learning_rate, 'max_depth' : max_depth, 'min_child_weight': min_child_weight, 'gamma':gamma, 'colsample_bytree': colsample_bytree}\n",
    "    random_search = RandomizedSearchCV(xgboost.XGBClassifier(objective='multi:softmax'), param_grid, cv=nfolds, n_iter=100,scoring='f1_micro', verbose=2,random_state = seed, n_jobs=-1)\n",
    "    random_search.fit(X, y)\n",
    "    random_search.best_params_\n",
    "    return random_search.best_params_"
   ]
  },
  {
   "cell_type": "code",
   "execution_count": 15,
   "metadata": {},
   "outputs": [
    {
     "name": "stdout",
     "output_type": "stream",
     "text": [
      "Fitting 5 folds for each of 100 candidates, totalling 500 fits\n"
     ]
    },
    {
     "name": "stderr",
     "output_type": "stream",
     "text": [
      "[Parallel(n_jobs=-1)]: Using backend LokyBackend with 4 concurrent workers.\n",
      "[Parallel(n_jobs=-1)]: Done  33 tasks      | elapsed:   16.9s\n",
      "[Parallel(n_jobs=-1)]: Done 154 tasks      | elapsed:  1.3min\n",
      "[Parallel(n_jobs=-1)]: Done 357 tasks      | elapsed:  2.9min\n",
      "[Parallel(n_jobs=-1)]: Done 500 out of 500 | elapsed:  4.1min finished\n"
     ]
    },
    {
     "name": "stdout",
     "output_type": "stream",
     "text": [
      "{'min_child_weight': 7, 'max_depth': 3, 'learning_rate': 0.1, 'gamma': 0.4, 'colsample_bytree': 0.3}\n"
     ]
    }
   ],
   "source": [
    "print(XGB_param_selection(xtrain_val_scaled, y_train_val, nfolds))"
   ]
  },
  {
   "cell_type": "code",
   "execution_count": 16,
   "metadata": {},
   "outputs": [
    {
     "data": {
      "text/plain": [
       "{'fit_time': array([0.58353305, 0.55380297, 0.57451296, 0.60634089, 0.571666  ]),\n",
       " 'score_time': array([0.01034999, 0.00926614, 0.01100302, 0.00931025, 0.00926828]),\n",
       " 'test_score': array([0.78603604, 0.75      , 0.72460497, 0.75395034, 0.75395034])}"
      ]
     },
     "execution_count": 16,
     "metadata": {},
     "output_type": "execute_result"
    }
   ],
   "source": [
    "# XGBClassifier cross val with the best param\n",
    "\n",
    "xgb_model = xgboost.XGBClassifier(objective='multi:softmax', min_child_weight= 7, max_depth= 3, learning_rate= 0.1, gamma= 0.4, colsample_bytree= 0.3)\n",
    "scores = cross_validate(xgb_model, xtrain_val_scaled, y_train_val, cv=5, scoring='f1_micro')\n",
    "scores"
   ]
  },
  {
   "cell_type": "code",
   "execution_count": 17,
   "metadata": {},
   "outputs": [
    {
     "name": "stdout",
     "output_type": "stream",
     "text": [
      "f1_micro: 0.7537083358753788\n"
     ]
    }
   ],
   "source": [
    "print('f1_micro:',scores['test_score'].mean())"
   ]
  },
  {
   "cell_type": "code",
   "execution_count": 18,
   "metadata": {},
   "outputs": [
    {
     "name": "stdout",
     "output_type": "stream",
     "text": [
      "f1_micro: 0.7945945945945945\n"
     ]
    }
   ],
   "source": [
    "xgb_model.fit(xtrain_val_scaled,y_train_val)\n",
    "xgb_pred = xgb_model.predict(xtest_scaled)\n",
    "print('f1_micro:',f1_score(y_test, xgb_pred, average= 'micro'))\n"
   ]
  },
  {
   "cell_type": "code",
   "execution_count": 19,
   "metadata": {},
   "outputs": [],
   "source": [
    "# LGB param tuning!\n",
    "def lgb_param_selection(X, y, nfolds):\n",
    "    bagging_fraction =  [0.5, 0.8]\n",
    "    bagging_frequency = [5, 8]\n",
    "    feature_fraction = [0.5, 0.8]\n",
    "    max_depth = [10, 13]\n",
    "    min_data_in_leaf = [90, 120]\n",
    "    num_leaves = [1200, 1550]\n",
    "    param_grid = {'bagging_fraction': bagging_fraction, 'bagging_frequency' : bagging_frequency, \n",
    "                  'feature_fraction':feature_fraction, 'max_depth':max_depth, 'min_data_in_leaf':min_data_in_leaf,\n",
    "                 'num_leaves':num_leaves}\n",
    "    random_search = RandomizedSearchCV(lgb.LGBMClassifier(objective = 'multiclass'), param_grid, cv=nfolds, n_iter=100,scoring='f1_micro', verbose=2,random_state = seed, n_jobs=-1)\n",
    "    random_search.fit(X, y)\n",
    "    random_search.best_params_\n",
    "    return random_search.best_params_"
   ]
  },
  {
   "cell_type": "code",
   "execution_count": 20,
   "metadata": {},
   "outputs": [
    {
     "name": "stdout",
     "output_type": "stream",
     "text": [
      "Fitting 5 folds for each of 64 candidates, totalling 320 fits\n"
     ]
    },
    {
     "name": "stderr",
     "output_type": "stream",
     "text": [
      "/Users/shiehan/anaconda3/envs/metis/lib/python3.7/site-packages/sklearn/model_selection/_search.py:281: UserWarning: The total space of parameters 64 is smaller than n_iter=100. Running 64 iterations. For exhaustive searches, use GridSearchCV.\n",
      "  % (grid_size, self.n_iter, grid_size), UserWarning)\n",
      "[Parallel(n_jobs=-1)]: Using backend LokyBackend with 4 concurrent workers.\n",
      "[Parallel(n_jobs=-1)]: Done  33 tasks      | elapsed:    3.6s\n",
      "[Parallel(n_jobs=-1)]: Done 154 tasks      | elapsed:   14.8s\n",
      "[Parallel(n_jobs=-1)]: Done 320 out of 320 | elapsed:   30.4s finished\n"
     ]
    },
    {
     "name": "stdout",
     "output_type": "stream",
     "text": [
      "{'num_leaves': 1200, 'min_data_in_leaf': 120, 'max_depth': 10, 'feature_fraction': 0.8, 'bagging_frequency': 5, 'bagging_fraction': 0.5}\n"
     ]
    }
   ],
   "source": [
    "print(lgb_param_selection(xtrain_val_scaled, y_train_val, nfolds))"
   ]
  },
  {
   "cell_type": "code",
   "execution_count": 21,
   "metadata": {},
   "outputs": [
    {
     "data": {
      "text/plain": [
       "{'fit_time': array([0.2007308 , 0.19541717, 0.21921492, 0.19384122, 0.18768096]),\n",
       " 'score_time': array([0.01564312, 0.01704669, 0.01793289, 0.01519394, 0.0155561 ]),\n",
       " 'test_score': array([0.77927928, 0.75675676, 0.73363431, 0.751693  , 0.75395034])}"
      ]
     },
     "execution_count": 21,
     "metadata": {},
     "output_type": "execute_result"
    }
   ],
   "source": [
    "# LGBMClassifier cross val with the best params\n",
    "lgbm_model = lgb.LGBMClassifier(objective = 'multiclass',num_leaves= 1200, min_data_in_leaf = 120, max_depth= 10, feature_fraction= 0.8, bagging_frequency= 5, bagging_fraction= 0.5)\n",
    "scores = cross_validate(lgbm_model, xtrain_val_scaled, y_train_val, cv=5, scoring='f1_micro')\n",
    "scores"
   ]
  },
  {
   "cell_type": "code",
   "execution_count": 22,
   "metadata": {},
   "outputs": [
    {
     "name": "stdout",
     "output_type": "stream",
     "text": [
      "f1_micro: 0.7550627376812479\n"
     ]
    }
   ],
   "source": [
    "print('f1_micro:',scores['test_score'].mean())"
   ]
  },
  {
   "cell_type": "code",
   "execution_count": 23,
   "metadata": {},
   "outputs": [
    {
     "name": "stdout",
     "output_type": "stream",
     "text": [
      "f1_micro: 0.7927927927927928\n"
     ]
    }
   ],
   "source": [
    "lgbm_model.fit(xtrain_val_scaled,y_train_val)\n",
    "lgbm_pred = lgbm_model.predict(xtest_scaled)\n",
    "print('f1_micro:',f1_score(y_test, lgbm_pred, average= 'micro'))"
   ]
  },
  {
   "cell_type": "code",
   "execution_count": 24,
   "metadata": {},
   "outputs": [
    {
     "data": {
      "text/plain": [
       "RandomForestClassifier(bootstrap=True, ccp_alpha=0.0, class_weight=None,\n",
       "                       criterion='gini', max_depth=None, max_features='auto',\n",
       "                       max_leaf_nodes=None, max_samples=None,\n",
       "                       min_impurity_decrease=0.0, min_impurity_split=None,\n",
       "                       min_samples_leaf=1, min_samples_split=2,\n",
       "                       min_weight_fraction_leaf=0.0, n_estimators=100,\n",
       "                       n_jobs=None, oob_score=False, random_state=123,\n",
       "                       verbose=0, warm_start=False)"
      ]
     },
     "execution_count": 24,
     "metadata": {},
     "output_type": "execute_result"
    }
   ],
   "source": [
    "rf = RandomForestClassifier(random_state = seed)\n",
    "rf.fit(xtrain_val_scaled, y_train_val)"
   ]
  },
  {
   "cell_type": "code",
   "execution_count": 25,
   "metadata": {},
   "outputs": [
    {
     "name": "stdout",
     "output_type": "stream",
     "text": [
      "Feature ranking:\n"
     ]
    },
    {
     "data": {
      "text/plain": [
       "Text(0.5, 0, 'Relative Importance')"
      ]
     },
     "execution_count": 25,
     "metadata": {},
     "output_type": "execute_result"
    },
    {
     "data": {
      "image/png": "[encoded data removed]",
      "text/plain": [
       "<Figure size 720x720 with 1 Axes>"
      ]
     },
     "metadata": {
      "needs_background": "light"
     },
     "output_type": "display_data"
    }
   ],
   "source": [
    "# Build a forest and compute the feature importances\n",
    "\n",
    "features = data.drop(['Q6'],axis=1).columns\n",
    "importances = rf.feature_importances_\n",
    "importance_lst = list(zip(features,importances))\n",
    "# Print the feature ranking\n",
    "print(\"Feature ranking:\")\n",
    "\n",
    "indices = np.argsort(importances)\n",
    "plt.figure(figsize=(10,10))\n",
    "plt.title('Feature Importances')\n",
    "plt.barh(range(len(indices)), importances[indices], color='#52B2BF', align='center')\n",
    "plt.yticks(range(len(indices)), [features[i] for i in indices])\n",
    "plt.xlabel('Relative Importance')\n",
    "\n"
   ]
  },
  {
   "cell_type": "code",
   "execution_count": null,
   "metadata": {},
   "outputs": [],
   "source": []
  }
 ],
 "metadata": {
  "kernelspec": {
   "display_name": "Python [conda env:metis] *",
   "language": "python",
   "name": "conda-env-metis-py"
  },
  "language_info": {
   "codemirror_mode": {
    "name": "ipython",
    "version": 3
   },
   "file_extension": ".py",
   "mimetype": "text/x-python",
   "name": "python",
   "nbconvert_exporter": "python",
   "pygments_lexer": "ipython3",
   "version": "3.7.6"
  }
 },
 "nbformat": 4,
 "nbformat_minor": 4
}
